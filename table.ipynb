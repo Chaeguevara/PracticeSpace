{
 "metadata": {
  "language_info": {
   "codemirror_mode": {
    "name": "ipython",
    "version": 3
   },
   "file_extension": ".py",
   "mimetype": "text/x-python",
   "name": "python",
   "nbconvert_exporter": "python",
   "pygments_lexer": "ipython3",
   "version": "3.7.6-final"
  },
  "orig_nbformat": 2,
  "kernelspec": {
   "name": "python3",
   "display_name": "Python 3",
   "language": "python"
  }
 },
 "nbformat": 4,
 "nbformat_minor": 2,
 "cells": [
  {
   "source": [
    "# 필요한 라이브러리 불러오기"
   ],
   "cell_type": "markdown",
   "metadata": {}
  },
  {
   "cell_type": "code",
   "execution_count": 313,
   "metadata": {
    "tags": []
   },
   "outputs": [],
   "source": [
    "import urllib.request\n",
    "from bs4 import BeautifulSoup\n",
    "from itertools import product\n",
    "from pandas import DataFrame\n"
   ]
  },
  {
   "source": [
    "필요한 라이브러리를 불러옵니다."
   ],
   "cell_type": "markdown",
   "metadata": {}
  },
  {
   "source": [
    "# 필요한 기능들 정의하기."
   ],
   "cell_type": "markdown",
   "metadata": {}
  },
  {
   "cell_type": "code",
   "execution_count": 314,
   "metadata": {},
   "outputs": [],
   "source": [
    "def table_to_2d(table_tag):\n",
    "    rowspans = []  # track pending rowspans\n",
    "    rows = table_tag.find_all('tr')\n",
    "\n",
    "    # first scan, see how many columns we need\n",
    "    colcount = 0\n",
    "    for r, row in enumerate(rows):\n",
    "        cells = row.find_all(['td', 'th'], recursive=False)\n",
    "        # count columns (including spanned).\n",
    "        # add active rowspans from preceding rows\n",
    "        # we *ignore* the colspan value on the last cell, to prevent\n",
    "        # creating 'phantom' columns with no actual cells, only extended\n",
    "        # colspans. This is achieved by hardcoding the last cell width as 1. \n",
    "        # a colspan of 0 means “fill until the end” but can really only apply\n",
    "        # to the last cell; ignore it elsewhere. \n",
    "        colcount = max(\n",
    "            colcount,\n",
    "            sum(int(c.get('colspan', 1)) or 1 for c in cells[:-1]) + len(cells[-1:]) + len(rowspans))\n",
    "        # update rowspan bookkeeping; 0 is a span to the bottom. \n",
    "        rowspans += [int(c.get('rowspan', 1)) or len(rows) - r for c in cells]\n",
    "        rowspans = [s - 1 for s in rowspans if s > 1]\n",
    "\n",
    "    # it doesn't matter if there are still rowspan numbers 'active'; no extra\n",
    "    # rows to show in the table means the larger than 1 rowspan numbers in the\n",
    "    # last table row are ignored.\n",
    "\n",
    "    # build an empty matrix for all possible cells\n",
    "    table = [[None] * colcount for row in rows]\n",
    "\n",
    "    # fill matrix from row data\n",
    "    rowspans = {}  # track pending rowspans, column number mapping to count\n",
    "    for row, row_elem in enumerate(rows):\n",
    "        span_offset = 0  # how many columns are skipped due to row and colspans \n",
    "        for col, cell in enumerate(row_elem.find_all(['td', 'th'], recursive=False)):\n",
    "            # adjust for preceding row and colspans\n",
    "            col += span_offset\n",
    "            while rowspans.get(col, 0):\n",
    "                span_offset += 1\n",
    "                col += 1\n",
    "\n",
    "            # fill table data\n",
    "            rowspan = rowspans[col] = int(cell.get('rowspan', 1)) or len(rows) - row\n",
    "            colspan = int(cell.get('colspan', 1)) or colcount - col\n",
    "            # next column is offset by the colspan\n",
    "            span_offset += colspan - 1\n",
    "            value = cell.get_text()\n",
    "            for drow, dcol in product(range(rowspan), range(colspan)):\n",
    "                try:\n",
    "                    table[row + drow][col + dcol] = value\n",
    "                    rowspans[col + dcol] = rowspan\n",
    "                except IndexError:\n",
    "                    # rowspan or colspan outside the confines of the table\n",
    "                    pass\n",
    "\n",
    "        # update rowspan bookkeeping\n",
    "        rowspans = {c: s - 1 for c, s in rowspans.items() if s > 1}\n",
    "\n",
    "    return table"
   ]
  },
  {
   "source": [
    "가장 핵심이 되는 기능입니다. table tag를 넣으면, list로 바꿔줍니다."
   ],
   "cell_type": "markdown",
   "metadata": {}
  },
  {
   "source": [
    "def deleteEnter(tableList):\n",
    "    newTableList = []\n",
    "    for itemList in tableList: # itemlist는 각 row\n",
    "        newItems = []\n",
    "        for item in itemList: # 각 row 안의 item\n",
    "            x = item.split('\\n') # 각 스트링 앞뒤에 \\n이 붙어 있습니다. 제거합니다. 그 결과로 각 아이템 앞뒤에 ''가 붙습니다.\n",
    "            x_ = x[:] \n",
    "            for y in x_:\n",
    "                if(len(y)==0): \n",
    "                    x.remove(y) # ''를 제거합니다.\n",
    "            newItems.append('\\n'.join(x)) # 셀 안에서 앤터를 쳐야하는 데이터들이 있었기 때문에 이를 반영했습니다.\n",
    "        newTableList.append(newItems)\n",
    "    return newTableList"
   ],
   "cell_type": "code",
   "metadata": {},
   "execution_count": 315,
   "outputs": []
  },
  {
   "source": [
    "데이터 안의 \\n을 제거합니다."
   ],
   "cell_type": "markdown",
   "metadata": {}
  },
  {
   "source": [
    "# 데이터 불러오기"
   ],
   "cell_type": "markdown",
   "metadata": {}
  },
  {
   "cell_type": "code",
   "execution_count": 316,
   "metadata": {
    "tags": [
     "outputPrepend"
    ]
   },
   "outputs": [
    {
     "output_type": "stream",
     "name": "stdout",
     "text": [
      "\n\n\n\n\n\n\n\n\n\n\n\n\n\n\n\n\n\n\n\n\n\n\n\n<p>▴손님 예약제 운영</p>\n\n\n\n\n\n\n\n\n\n\n\n\n\n\n\n\n\n\n\n\n\n\n\n\n\n\n\n\n\n\n\n\n<p>▴손님 음료 제공 금지</p>\n\n\n</td>\n\n\n</tr>\n\n\n\n\n\n\n\n\n\n\n\n\n\n\n\n\n\n\n\n\n\n\n\n\n\n\n\n\n\n\n\n\n<tr>\n\n\n<td rowspan=\"2\">\n\n\n<p><b>상점</b><b>·</b><b>마트</b><b>·</b></p>\n\n\n\n\n\n\n\n\n\n\n\n\n\n\n\n\n\n\n\n\n\n\n\n\n\n\n\n\n\n\n\n\n<p><b>백화점</b></p>\n\n\n</td>\n\n\n\n\n\n\n\n\n\n\n\n\n\n\n\n\n\n\n\n\n\n\n\n\n\n\n\n\n\n\n\n\n<td class=\"td-left\" rowspan=\"2\">\n\n\n<p>▴마스크 착용, 환기･소독</p>\n\n\n</td>\n\n\n\n\n\n\n\n\n\n\n\n\n\n\n\n\n\n\n\n\n\n\n\n\n\n\n\n\n\n\n\n\n<td class=\"td-left\" style=\"border-left: 2px solid blue; border-right: 2px solid blue;\">\n\n\n<p>변동없음</p>\n\n\n</td>\n\n\n</tr>\n\n\n\n\n\n\n\n\n\n\n\n\n\n\n\n\n\n\n\n\n\n\n\n\n\n\n\n\n\n\n\n\n<tr>\n\n\n<td class=\"td-left\" style=\"border-left: 2px solid blue; border-right: 2px solid blue; background: #f2f2f2; color: #315fa7;\">\n\n\n<p><b>&lt; </b><b>서울형 강화 조치 </b><b>&gt;</b></p>\n\n\n\n\n\n\n\n\n\n\n\n\n\n\n\n\n\n\n\n\n\n\n\n\n\n\n\n\n\n\n\n\n<p>▴코로나19 감염 의심 종사자 관리</p>\n\n\n\n\n\n\n\n\n\n\n\n\n\n\n\n\n\n\n\n\n\n\n\n\n\n\n\n\n\n\n\n\n<p>- 발열체크, 호흡기 증상･발열시 출근 중단 및 즉시 퇴근조치 등</p>\n\n\n\n\n\n\n\n\n\n\n\n\n\n\n\n\n\n\n\n\n\n\n\n\n\n\n\n\n\n\n\n\n<p>▴손씻기 등 안내문 게시 및 손소독제 비치</p>\n\n\n\n\n\n\n\n\n\n\n\n\n\n\n\n\n\n\n\n\n\n\n\n\n\n\n\n\n\n\n\n\n<p>▴이벤트성 행사, 시식･시음 코너 운영 금지</p>\n\n\n\n\n\n\n\n\n\n\n\n\n\n\n\n\n\n\n\n\n\n\n\n\n\n\n\n\n\n\n\n\n<p>- (운영시) 타액 등이 묻을 수 있는 쓰레기는 타인의 손에 닿지 않게 조치</p>\n\n\n\n\n\n\n\n\n\n\n\n\n\n\n\n\n\n\n\n\n\n\n\n\n\n\n\n\n\n\n\n\n<p>▴문화센터･어린이 놀이시설 등 운영 자제</p>\n\n\n\n\n\n\n\n\n\n\n\n\n\n\n\n\n\n\n\n\n\n\n\n\n\n\n\n\n\n\n\n\n<p>- (운영시) 강의실 면적 4㎡당 1명으로 인원 제한</p>\n\n\n</td>\n\n\n</tr>\n\n\n\n\n\n\n\n\n\n\n\n\n\n\n\n\n\n\n\n\n\n\n\n\n\n\n\n\n\n\n\n\n<tr>\n\n\n<td rowspan=\"2\">\n\n\n<p><b>국공립시설</b></p>\n\n\n</td>\n\n\n\n\n\n\n\n\n\n\n\n\n\n\n\n\n\n\n\n\n\n\n\n\n\n\n\n\n\n\n\n\n<td class=\"td-left\" rowspan=\"2\">\n\n\n<p>▴마스크 착용, 출입자 명단 관리, 환기·소독 등</p>\n\n\n\n\n\n\n\n\n\n\n\n\n\n\n\n\n\n\n\n\n\n\n\n\n\n\n\n\n\n\n\n\n<p>▴경륜·경마 등 20% 인원 제한</p>\n\n\n\n\n\n\n\n\n\n\n\n\n\n\n\n\n\n\n\n\n\n\n\n\n\n\n\n\n\n\n\n\n<p>▴이외 시설 50% 인원 제한</p>\n\n\n</td>\n\n\n\n\n\n\n\n\n\n\n\n\n\n\n\n\n\n\n\n\n\n\n\n\n\n\n\n\n\n\n\n\n<td class=\"td-left\" style=\"border-left: 2px solid blue; border-right: 2px solid blue;\">\n\n\n<p>▴경마·경륜·경정·카지노 운영 중단, 이외 시설 이용인원 30% 이내로 제한</p>\n\n\n</td>\n\n\n</tr>\n\n\n\n\n\n\n\n\n\n\n\n\n\n\n\n\n\n\n\n\n\n\n\n\n\n\n\n\n\n\n\n\n<tr>\n\n\n<td class=\"td-left\" style=\"border-left: 2px solid blue; border-right: 2px solid blue; border-bottom: 2px solid blue; background: #f2f2f2; color: #315fa7;\">\n\n\n<p><b>&lt; </b><b>서울형 강화 조치 </b><b>&gt;</b></p>\n\n\n\n\n\n\n\n\n\n\n\n\n\n\n\n\n\n\n\n\n\n\n\n\n\n\n\n\n\n\n\n\n<p><b> </b></p>\n\n\n\n\n\n\n\n\n\n\n\n\n\n\n\n\n\n\n\n\n\n\n\n\n\n\n\n\n\n\n\n\n<p><b>(</b><b>청소년 시설</b><b>)</b></p>\n\n\n\n\n\n\n\n\n\n\n\n\n\n\n\n\n\n\n\n\n\n\n\n\n\n\n\n\n\n\n\n\n<p>▴정원 30% 범위 내 인원 제한 운영</p>\n\n\n\n\n\n\n\n\n\n\n\n\n\n\n\n\n\n\n\n\n\n\n\n\n\n\n\n\n\n\n\n\n<p>▴수영장·헬스장은 위험도를 고려 핀셋방역</p>\n\n\n\n\n\n\n\n\n\n\n\n\n\n\n\n\n\n\n\n\n\n\n\n\n\n\n\n\n\n\n\n\n<p>- 4㎡당 1명 기준정원의 25%이내 제한</p>\n\n\n\n\n\n\n\n\n\n\n\n\n\n\n\n\n\n\n\n\n\n\n\n\n\n\n\n\n\n\n\n\n<p>- 사전예약제, 이용시간 단축(60분→40분),</p>\n\n\n\n\n\n\n\n\n\n\n\n\n\n\n\n\n\n\n\n\n\n\n\n\n\n\n\n\n\n\n\n\n<p>- 라커 건너사용, 수건 등 개인용품 사용 등</p>\n\n\n\n\n\n\n\n\n\n\n\n\n\n\n\n\n\n\n\n\n\n\n\n\n\n\n\n\n\n\n\n\n<p>- 헬스장 샤워실 이용 금지(수영장 제외)</p>\n\n\n\n\n\n\n\n\n\n\n\n\n\n\n\n\n\n\n\n\n\n\n\n\n\n\n\n\n\n\n\n\n<p><b> </b></p>\n\n\n\n\n\n\n\n\n\n\n\n\n\n\n\n\n\n\n\n\n\n\n\n\n\n\n\n\n\n\n\n\n<p><b>(</b><b>공공 실내체육시설</b><b>)</b></p>\n\n\n\n\n\n\n\n\n\n\n\n\n\n\n\n\n\n\n\n\n\n\n\n\n\n\n\n\n\n\n\n\n<p>▴샤워실 운영 중단(수영장 제외)</p>\n\n\n</td>\n\n\n</tr>\n\n\n</tbody>\n\n\n</table>\n\n\n\n\n\n\n\n\n\n\n\n\n\n\n\n\n\n\n\n\n\n\n\n\n\n\n\n\n\n\n\n\n<h5>■ 일상 및 사회·경제적 활동</h5>\n\n\n\n\n\n\n\n\n\n\n\n\n\n\n\n\n\n\n\n\n\n\n\n\n\n\n\n\n\n\n\n\n<table>\n\n\n<caption>일상 및 사회·경제적 활동</caption>\n\n\n\n\n\n\n\n\n\n\n\n\n\n\n\n\n\n\n\n\n\n\n\n\n\n\n\n\n\n\n\n\n<colgroup>\n\n\n<col style=\"width: 20%;\" />\n\n\n<col style=\"width: 40%;\" />\n\n\n<col style=\"width: 40%;\" /> </colgroup>\n\n\n\n\n\n\n\n\n\n\n\n\n\n\n\n\n\n\n\n\n\n\n\n\n\n\n\n\n\n\n\n\n<thead>\n\n\n<tr>\n\n\n<th scope=\"col\">\n\n\n<p><b>구분</b></p>\n\n\n</th>\n\n\n\n\n\n\n\n\n\n\n\n\n\n\n\n\n\n\n\n\n\n\n\n\n\n\n\n\n\n\n\n\n<th scope=\"col\">\n\n\n<p><b>현행 </b><b>1.5</b><b>단계</b></p>\n\n\n</th>\n\n\n\n\n\n\n\n\n\n\n\n\n\n\n\n\n\n\n\n\n\n\n\n\n\n\n\n\n\n\n\n\n<th style=\"background: #ebebeb; border-top: 2px solid blue; border-left: 2px solid blue; border-right: 2px solid blue;\" scope=\"col\">\n\n\n<p><b>2</b><b>단계 추가 조치</b></p>\n\n\n</th>\n\n\n</tr>\n\n\n</thead>\n\n\n\n\n\n\n\n\n\n\n\n\n\n\n\n\n\n\n\n\n\n\n\n\n\n\n\n\n\n\n\n\n<tbody>\n\n\n<tr>\n\n\n<td>\n\n\n<p><b>마스크 착용 </b></p>\n\n\n\n\n\n\n\n\n\n\n\n\n\n\n\n\n\n\n\n\n\n\n\n\n\n\n\n\n\n\n\n\n<p><b>의무화</b></p>\n\n\n</td>\n\n\n\n\n\n\n\n\n\n\n\n\n\n\n\n\n\n\n\n\n\n\n\n\n\n\n\n\n\n\n\n\n<td class=\"td-left\">\n\n\n<p>▴중점·일반관리시설, 대중교통, 의료기관, 약국, 요양시설, 주야간보호시설, 집회·시위장, 실내외 스포츠 경기장, 고위험 사업장, 종교시설</p>\n\n\n</td>\n\n\n\n\n\n\n\n\n\n\n\n\n\n\n\n\n\n\n\n\n\n\n\n\n\n\n\n\n\n\n\n\n<td class=\"td-left\" style=\"border-left: 2px solid blue; border-right: 2px solid blue;\">\n\n\n<p>▴실내 전체 및 실외 집회·시위장, 스포츠 경기장 등 의무화, 위반 시 과태료 부과</p>\n\n\n</td>\n\n\n</tr>\n\n\n\n\n\n\n\n\n\n\n\n\n\n\n\n\n\n\n\n\n\n\n\n\n\n\n\n\n\n\n\n\n<tr>\n\n\n<td rowspan=\"2\">\n\n\n<p><b>모임</b><b>·</b><b>행사</b></p>\n\n\n</td>\n\n\n\n\n\n\n\n\n\n\n\n\n\n\n\n\n\n\n\n\n\n\n\n\n\n\n\n\n\n\n\n\n<td class=\"td-left\" rowspan=\"2\">\n\n\n<p>▴500명 이상 행사는 지자체 신고·협의 필요, 방역수칙 의무화</p>\n\n\n\n\n\n\n\n\n\n\n\n\n\n\n\n\n\n\n\n\n\n\n\n\n\n\n\n\n\n\n\n\n<p>▴집회·축제·대규모 콘서트·학술행사는 100인<br />\n\n\n\n\n\n\n\n\n\n\n\n\n\n\n이상 금지</p>\n\n\n</td>\n\n\n\n\n\n\n\n\n\n\n\n\n\n\n\n\n\n\n\n\n\n\n\n\n\n\n\n\n\n\n\n\n<td class=\"td-left\" style=\"border-left: 2px solid blue; border-right: 2px solid blue;\">\n\n\n<p>▴ 모든 모임 행사 자제, 특히 10인 이상의 사적 모임을 취소하도록 강력 권고</p>\n\n\n\n\n\n\n\n\n\n\n\n\n\n\n\n\n\n\n\n\n\n\n\n\n\n\n\n\n\n\n\n\n<p>- 공무 및 기업의 필수 경영활동에 필요한 경우 예외 허용</p>\n\n\n\n\n\n\n\n\n\n\n\n\n\n\n\n\n\n\n\n\n\n\n\n\n\n\n\n\n\n\n\n\n<p>- 시험의 경우 분할된 공간 내 100인 미만 허용</p>\n\n\n\n\n\n\n\n\n\n\n\n\n\n\n\n\n\n\n\n\n\n\n\n\n\n\n\n\n\n\n\n\n<p>▴전시·박람회 국제회의는 시설 면적 4㎡당 1명 인원 제한, 100인 기준 미적용</p>\n\n\n</td>\n\n\n</tr>\n\n\n\n\n\n\n\n\n\n\n\n\n\n\n\n\n\n\n\n\n\n\n\n\n\n\n\n\n\n\n\n\n<tr>\n\n\n<td class=\"td-left\" style=\"border-left: 2px solid blue; border-right: 2px solid blue; background: #f2f2f2; color: #315fa7;\">\n\n\n<p><b>&lt; </b><b>서울형 강화 조치 </b><b>&gt;</b></p>\n\n\n\n\n\n\n\n\n\n\n\n\n\n\n\n\n\n\n\n\n\n\n\n\n\n\n\n\n\n\n\n\n<p>▴서울 전역 10인 이상 집회금지</p>\n\n\n\n\n\n\n\n\n\n\n\n\n\n\n\n\n\n\n\n\n\n\n\n\n\n\n\n\n\n\n\n\n<p>▴9인 이하 집회시 7대 방역수칙 준수</p>\n\n\n\n\n\n\n\n\n\n\n\n\n\n\n\n\n\n\n\n\n\n\n\n\n\n\n\n\n\n\n\n\n<p>▴도심내 집회 전면 금지</p>\n\n\n</td>\n\n\n</tr>\n\n\n\n\n\n\n\n\n\n\n\n\n\n\n\n\n\n\n\n\n\n\n\n\n\n\n\n\n\n\n\n\n<tr>\n\n\n<td>\n\n\n<p><b>스포츠 관람</b></p>\n\n\n</td>\n\n\n\n\n\n\n\n\n\n\n\n\n\n\n\n\n\n\n\n\n\n\n\n\n\n\n\n\n\n\n\n\n<td class=\"td-left\">\n\n\n<p>▴30% 이내로 관중 입장</p>\n\n\n</td>\n\n\n\n\n\n\n\n\n\n\n\n\n\n\n\n\n\n\n\n\n\n\n\n\n\n\n\n\n\n\n\n\n<td class=\"td-left\" style=\"border-left: 2px solid blue; border-right: 2px solid blue;\">\n\n\n<p>▴10% 이내로 관중 입장</p>\n\n\n</td>\n\n\n</tr>\n\n\n\n\n\n\n\n\n\n\n\n\n\n\n\n\n\n\n\n\n\n\n\n\n\n\n\n\n\n\n\n\n<tr>\n\n\n<td rowspan=\"2\">\n\n\n<p><b>교통시설 이용</b></p>\n\n\n</td>\n\n\n\n\n\n\n\n\n\n\n\n\n\n\n\n\n\n\n\n\n\n\n\n\n\n\n\n\n\n\n\n\n<td class=\"td-left\" rowspan=\"2\">\n\n\n<p>▴마스크 착용 의무화</p>\n\n\n</td>\n\n\n\n\n\n\n\n\n\n\n\n\n\n\n\n\n\n\n\n\n\n\n\n\n\n\n\n\n\n\n\n\n<td class=\"td-left\" style=\"border-left: 2px solid blue; border-right: 2px solid blue;\">\n\n\n<p>▴버스, 기차 등 교통수단 내 음식 섭취 금지</p>\n\n\n</td>\n\n\n</tr>\n\n\n\n\n\n\n\n\n\n\n\n\n\n\n\n\n\n\n\n\n\n\n\n\n\n\n\n\n\n\n\n\n<tr>\n\n\n<td class=\"td-left\" style=\"border-left: 2px solid blue; border-right: 2px solid blue; border-bottom: 2px solid blue; background: #f2f2f2; color: #315fa7;\">\n\n\n<p><b>&lt; </b><b>서울형 강화 조치 </b><b>&gt;</b></p>\n\n\n\n\n\n\n\n\n\n\n\n\n\n\n\n\n\n\n\n\n\n\n\n\n\n\n\n\n\n\n\n\n<p>▴22시 이후 버스 지하철 20% 감축 운행 (지하철은 사전준비기간 이후 시행)</p>\n\n\n</td>\n\n\n</tr>\n\n\n</tbody>\n\n\n</table>\n\n\n\n\n\n\n\n\n\n\n\n\n\n\n\n\n------></p>\n<p>&nbsp;</p>\n<!-- 마일리지 이벤트 -->\n<!-- <div style=\"margin-bottom:-20px\">\n\t<img src=\"/wp-content/themes/seoul/images/sns_event.jpg\" alt=\"마일리지 적립 이벤트가 2014년 3월부로 종료됩니다.\" />\n</div> -->\n<!-- //마일리지 이벤트 -->\n\n\t\t\t<div id='sns_elem' style='display:block;'>\n\t           <div class='snsWrap'>\n\t              <ul class='snsUL'><li style='list-style-type:none !important'><div id='posting_target_div'></div><span class='frist' style='list-style-type:none !important;' onclick='scrap(9);return false;'><a href='#' title='좋아요'><span>0</span></a></span></li>\n\t              \t <li style='list-style-type:none !important'><div class='scrap_print'><a href='#print' onclick='scrap(11);return false;' title='새창열림'><span>인쇄</span></a></div>\n\t              \t <div class='scrap_slt'><a href='#scrap' onclick='javascript:show_drop_box()'>스크랩<span>&nbsp;</span></a></div></li>\n\t              </ul>\n\t              <ul id='sns_elem_dropdownmenu' class='scrap_select'>\n\t              \t<li class='scrap_naver' onclick='scrap(5,\"https://news.seoul.go.kr/welfare/?p=525381&amp;title=%EC%BD%94%EB%A1%9C%EB%82%9819+%EA%B2%80%EC%82%AC+%EA%B0%80%EB%8A%A5%ED%95%9C+52%EA%B0%9C+%EC%9E%84%EC%8B%9C%EC%84%A0%EB%B3%84%EA%B2%80%EC%82%AC%EC%86%8C+4%EC%A3%BC+%EC%97%B0%EC%9E%A5%2C+%EA%B0%80%EA%B5%AC%EB%8B%B9+1%EC%9D%B8+%EA%B2%80%EC%82%AC+%EC%BA%A0%ED%8E%98%EC%9D%B8+%EC%8B%A4%EC%8B%9C\");return false;' style='list-style-type:none !important;'><a href='#네이버blog' title='새창열림'><span>&nbsp;</span><strong>네이버blog</strong></a></li>\n\t               \t\n\t               \t<li class='scrap_mail' onclick=\"javascript:jQuery('.mail_box').show();return false;\" style='list-style-type:none !important;'><a href='#메일전송' title='새창열림'><span>&nbsp;</span><strong>메일전송</strong></a></li>\n\t               \t<li class='scrap_html' id='htmlcopy' style='list-style-type:none !important;'><a href='#sourceScrap' title='소스복사' id='sourceScrap'><span>&nbsp;</span><strong>소스복사</strong></a></li>\n\t\t\t\n\t\t\t\t  </ul> <div id=\"lv-widget\" data-id=\"seoul\" data-uid=\"MjQ1LzE0NTY1LzI3NA==\">\n\t\t\t\t\t\t\t\t\t\t\t<script>\n\t\t\t\t\t\t\t\t\t\t\t\twindow.livereWidgetOptions = {\n\t\t\t\t\t\t\t\t\t\t\t\tlist: ['twitter', 'facebook',  'kakao'],\n\t\t\t\t\t\t\t\t\t\t\t\tcustomStyle: '#container ul#sns-login-list{width: 158px;margin-left: 94px;border: 0px solid #ccc;border-radius: 5px} #container ul#sns-login-list li:first-child {display: none} #container ul#sns-login-list li {float: left;width: 50px;height: 36px;line-height:36px;text-align: center;border-right: 0px solid #ccc} #container ul#sns-login-list li:last-child {border-right: 0;} #container .sns-login-list li button span, #container #sns-login li button span, #container button span.text-indent {width: 21px;height: 21px;border-radius: 0} #container .bg-twitter-medium, #container button:hover .bg-twitter-medium,#container .bg-twitter-medium.shared-count, #container button:hover .bg-twitter-medium.shared-count {background-position: -153px -41px} #container .bg-facebook-medium, #container button:hover .bg-facebook-medium, #container .bg-facebook-medium.shared-count, #container button:hover .bg-facebook-medium.shared-count {background-position: -153px 0} #container .bg-kakao-medium, #container button:hover  .bg-kakao-medium, #container .bg-kakao-medium.shared-count, #container button:hover .bg-kakao-medium.shared-count {background-position: -153px -82px} #container .bg-facebook-medium.shared-count, #container .bg-twitter-medium.shared-count, #container .bg-kakao-medium.shared-count {display: inline-block !important} #container .sns-login-list li button .count-text, #container #sns-login li button .count-text {display: inline-block;color: #555} #container #login, #container .login, #container .writer {min-width: 208px}#container button{width:100px}'\n\t\t\t\t\t\t\t\t\t\t\t};\n\t\t\t\t\t\t\t\t\t\t\t\t(function(d, s) {\n\t\t\t\t\t\t\t\t\t\t\t\t\tvar j, e = d.getElementsByTagName(s)[0];\n\t\t\t\t\t\t\t\t\t\t\t\t\tif (typeof Toybox === 'function') { return; }\n\t\t\t\t\t\t\t\t\t\t\t\t\t\tj = d.createElement(s);\n\t\t\t\t\t\t\t\t\t\t\t\t\t\tj.src = 'https://cdn-city.livere.com/js/toybox.dist.js';\n\t\t\t\t\t\t\t\t\t\t\t\t\t\tj.async = true;\n\t\t\t\t\t\t\t\t\t\t\t\t\t\te.parentNode.insertBefore(j, e);\n\t\t\t\t\t\t\t\t\t\t\t\t\t})(document, 'script');\n\t\t\t\t\t\t\t\t\t\t\t\t</script>\n\t\t\t\t\t\t\t\t\t\t\t\t\t<noscript>라이브쉐어 댓글 작성을 위해 JavaScript 를 활성화 해주세요.</noscript>\n\t\t\t\t\t\t\t\t\t\t\t</div>\n\t\t           </div>\n\t\t        </div>\n\t\t\t\t<div class='mail_box'>\n\t\t\t\t\t<form action ='#' class='mail_form' name='mail_form' style='margin-top:5px;'>\n\t\t\t\t\t\t<input type='hidden' name='ID' value='525381' />\n\t\t\t\t\t\t<input type='hidden' name='IP' value='115.84.166.41' />\n\t\t\t\t\t\t<input type='hidden' name='parent_ID' value='https://news.seoul.go.kr/welfare/archives/525381' />\n\t\t\t\t\t\t<label for='mailaddress2' style='font-weight:bold;'>메일주소</label>\n\t\t\t\t\t\t<input type='text' name='address' value='' id='mailaddress2' style='width:245px;margin-left:5px;border:1px solid #d4d4d4;height:40px;' /><br />\n\t\t\t\t\t\t<div class='btnbox'>\n\t\t\t\t\t\t\t<input type='button' id='mail_cancle' value='취소' class='btncancel' />\n\t\t\t\t\t\t\t<input type='button' id='mail_sender' value='전송' class='btnsend' />\n\t\t\t\t\t\t</div>\n\t\t\t\t\t</form>\n\t\t\t\t</div>\n\t\t\t<div id=\"content_manager_info\"><a target=\"_blank\" title=\"새창열림\" rel=\"license\" href=\"//www.kogl.or.kr/info/license.do\"><img alt=\"공공누리 공공저작물 자유이용허락, 출처표시, 상업적 이용금지, 변경금지\" src=\"/wp-content/plugins/seoul-ccl/images/by-nc-nd88x31.png\"></a><ul><li><strong>담당부서</strong> 행정국 - 자치행정과 </li><li><strong>문의</strong> 120 </li><li><strong>작성일 </strong> 2020-12-13</li></ul></div>\t\t\t\t\t\t\n\t\n<div class=\"comment_eungdapso\">\n\t<p class=\"txt-1\">\n\t\t댓글은 자유로운 의견 공유의 장이므로 서울시에 대한 신고, 제안, 건의 등<br />답변이나 개선이 필요한 사항에 대해서는 <strong>전자민원 응답소 홈페이지를 이용</strong>하여 주시기 바랍니다.\n\t</p>\n\t<p class=\"txt-2\">\n\t\t댓글의 내용이 명예훼손, 개인정보 유출, 저작권 침해 등에 해당되는 경우<br>관계 법령 및 이용약관에 따라서 별도의 통보없이 삭제될 수 있습니다.\n\t</p>\n\t<p class=\"btn\"><a href=\"http://eungdapso.seoul.go.kr/\" target=\"_blank\" title=\"새창열림\">응답소 홈페이지 바로가기</a></p>\n</div>\n<!-- 서울시 통합배너 위젯 시작 : 문제발생시 해당 영역을 주석처리해 주세요.-->\n<div id=\"ad_area_912_100\" class=\"\">\n\t<!-- NHN ACE : [서울시청] 메인_PC 912*100 태그 -->\n\t<iframe id='7f24d240' name='7f24d240' src='https://delivery.acecounter.com/delivery/www/delivery/afr.php?zoneid=551&amp;cb=INSERT_RANDOM_NUMBER_HERE' style=\"border: 0;width: 912px;height: 104px;\" title=\"서울시 통합배너\"><a href='http://delivery.acecounter.com/delivery/www/delivery/ck.php?n=7f24d240&amp;cb=INSERT_RANDOM_NUMBER_HERE' target='_blank'><img src='http://delivery.acecounter.com/delivery/www/delivery/avw.php?zoneid=551&amp;cb=INSERT_RANDOM_NUMBER_HERE&amp;n=7f24d240' border='0' alt='' /></a></iframe>\n</div>\n<!-- //서울시 통합배너 위젯 종료 -->\n\n\t\n\t\t\t\t\t\t\t<div id=\"lv-container\"  data-id=\"seoul\" data-uid=\"MjQ1LzE0NTY1LzI3NA==\">\n\t\t\t\t\t\t\t\n\t\t\t\t\t\t\t<script>\n\t\t\t\t\t\t\t\n\t\t\t\t\t\t\twindow.livereOptions ={\n\t\t\t\t\t\t\trefer: 'news.seoul.go.kr/welfare/archives/525381'\n\t\t\t\t\t\t\t};\n\t\t\t\t\t\t\t\n\t\t\t\t\t\t\t\t(function(d,s) {\n\t\t\t\t\t\t\t\t\tvar j, e=d.getElementsByTagName(s)[0];\n\t\t\t\t\t\t\t\t\tif (typeof LivereTower === 'function') {return;}\t\t\t\n\t\t\t\t\t\t\t\t\tj=d.createElement(s);\n\t\t\t\t\t\t\t\t\tj.src='https://cdn-city.livere.com/js/embed.dist.js'; j.async=true;\n\t\t\t\t\t\t\t\t\te.parentNode.insertBefore(j,e);\n\t\t\t\t\t\t\t})(document,'script');\n\t\t\t\t\t\t\t</script>\n\t\t\t\t\t</div>\n\n\t\t\t\t\t</div>\t\t</div><!--// view_ct -->\n\t</div>\n</div>\n\t<!-- //내용 -->\t\t\t\t\n<!-- //view top 2 -->\t\n\t\t\n\t</div><!--// sub_centent-->\n</div><!-- #sub_contentWrap -->\n<!--</div>--><!--single content end-->\n\t\n<!-- footer -->\n<footer id=\"footer\">\n\t<div class=\"inner\">\n\t\t<div class=\"footer-link\">\n\t\t\t<!--li에 클래스 pc-view 추가-->\n\t\t\t<ul>\n\t\t\t\t\t<li class=\"\"><a href=\"https://www.seoul.go.kr/helper/renewal.do?tr_code=footer_01\">홈페이지 도우미</a></li>\n\t\t\t\t\t<li class=\"policy\"><a href=\"https://www.seoul.go.kr/helper/privacy.do?tr_code=footer_02&type=www\">개인정보처리방침</a></li>\n\t\t\t\t\t<li class=\"pc-view\"><a href=\"https://www.seoul.go.kr/helper/copyright.do?tr_code=footer_03\">저작권 정책</a></li>\n\t\t\t\t\t<li class=\"pc-view\"><a href=\"https://www.seoul.go.kr/helper/media.do?tr_code=footer_04\">영상정보처리기기 운영 관리방침</a></li>\n\t\t\t\t\t<li><a href=\"https://www.seoul.go.kr/homepageCorrect/user/hpCorrect.do?tr_code=footer_05\">홈페이지 바로잡기</a></li>\n\t\t\t\t\t<li class=\"pc-view\"><a href=\"https://www.seoul.go.kr/helper/siteMap.do?tr_code=footer_06\">사이트맵</a></li>\n\t\t\t</ul>\n\t\t\t<div class=\"sns sns-new pc-view\">\n\t\t\t\t<!--a에 클래스 pc-view 추가-->\n\t\t\t\t<!-- <a href=\"/welfare/feed\" class=\"rss\">rss</a> -->\n\t\t\t\t<a href=\"https://www.facebook.com/seoul.kr\" class=\"fb\" target=\"_blank\" title=\"새창열림\">페이스북</a>\n\t\t\t\t<a href=\"http://twitter.com/seoulmania\" class=\"tw\"  target=\"_blank\" title=\"새창열림\">트위터</a>\n\t\t\t\t<a href=\"http://www.instagram.com/seoul_official\" class=\"ins\"  target=\"_blank\" title=\"새창열림\">인스타그램</a>\n\t\t\t\t<a href=\"http://story.kakao.com/ch/seoul\" class=\"ks\"  target=\"_blank\" title=\"새창열림\">카카오스토리</a>\n\t\t\t\t<a href=\"http://www.youtube.com/seoullive\" class=\"yt\"  target=\"_blank\" title=\"새창열림\">유튜브</a>\n\t\t\t\t<a href=\"http://blog.naver.com/haechiseoul\" class=\"bl\"  target=\"_blank\" title=\"새창열림\">블로그</a>\n\t\t\t</div>\n\t\t</div>\n\t</div>\n\t<div class=\"row\">\n\t\t<div class=\"inner\">\n\t\t\t<span class=\"foo-logo inquiry pc-view\"><em class=\"sr-only\">문의 전화번호 120, 정보를 못찾으셨나요? 120다산콜센터로 물어보세요!</em></span>\n\t\t\t<!-- <div class=\"address\">\n\t\t\t\t<p><strong>서울특별시청</strong> 04524 서울특별시 중구 세종대로 110\n\t\t\t\t<a href=\"https://www.seoul.go.kr/seoul/map.do\" class=\"map\">[찾아오시는 길] </a><span class=\"tel\">대표전화 : 02)120</span></p>\n\t\t\t\t<p class=\"copy\">&copy; 2018. Seoul Metropolitan Government all rights reserved.</p>\n\t\t\t</div> -->\n\t\t\t<div class=\"address\">\n                <p class=\"city\">서울특별시청  04524 서울특별시 중구 세종대로 110 <a href=\"https://www.seoul.go.kr/seoul/map.do?tr_code=footer_07\" class=\"map\">[찾아오시는 길]</a></p>\n                <p class=\"\">대표전화 : 02-120 또는 02-731-2120</p>\n                <p class=\"copy\">© Seoul Metropolitan Government all rights reserved</p>\n            </div>\n            <!-- <div class=\"mark\">\n                <a href=\"https://www.seoul.go.kr/seoul/gcs.do?tr_code=gcs\" target=\"_blank\" title=\"굿콘텐츠제공서비스 품질인증서\"><img src=\"https://www.seoul.go.kr/res_newseoul/images/footer_mark_good.png\" alt=\"이용자가 선택한 우수 콘텐츠 서비스 - 한국데이터베이스진흥원 인증마크\"></a>\n                <a href=\"https://www.seoul.go.kr/helper/web_accessibility.do?tr_code=wa\" title=\"웹접근성 품질마크\"><img src=\"https://www.seoul.go.kr/res_newseoul/images/footer_mark_wah.png\" alt=\"과학기술정보통신부 WEB ACCESSIBILITY 마크(웹 접근성 품질인증 마크)\"></a>\n            </div> -->\n\t\t\t<!--아래 div에 클래스 pc-view 추가-->\n\t\t</div>\n\t</div>\n\t<!-- 20180903 TOP Button 추가 -->\n\t<a href=\"javascript:void(0);\" class=\"btn-top-new\" title=\"페이지 상단으로 이동\"><img src=\"/wp-content/themes/seoul/images/btn_top.png\" alt=\"상단으로\"></a>\n\t<script>\n\t\tvar $ = jQuery;\n\t\t(function(global, $) {\n\t\t\t'use strict';\n\t\t\tvar _scope, ctrl, topBtn;\n\t\t\tvar init = function() {\n\t\t\t\t_scope = global;\n\t\t\t\tctrl = false;\n\t\t\t\ttopBtn = document.querySelector('.btn-top-new');\n\t\t\t\tbind();\n\t\t\t};\n\t\t\tvar bind = function() {\n\t\t\t\t$(_scope).on('scroll', function() {\n\t\t\t\t\tvar _scrollTop = $(_scope).scrollTop();\n\t\t\t\t\tif(ctrl == true && _scrollTop == 0) {\n\t\t\t\t\t\tctrl = false;\n\t\t\t\t\t\t$(topBtn).removeClass('show');\n\t\t\t\t\t} else if( ctrl == false && _scrollTop > 20 ) {\n\t\t\t\t\t\tctrl = true;\n\t\t\t\t\t\t$(topBtn).addClass('show');\n\t\t\t\t\t\t$(topBtn).off('click').on('click', function() {$(\"html, body\").animate({ scrollTop: 0 }, 300)});\n\t\t\t\t\t}\n\t\t\t\t});\n\t\t\t};\n\t\t\tinit();\n\t\t})(window, jQuery);\n\t</script>\n</footer>\n<!-- footer -->\n\n\n\n\t<script type='text/javascript' src='https://news.seoul.go.kr/welfare/wp-includes/js/comment-reply.min.js?ver=5.4.1'></script>\n<script type='text/javascript' src='https://news.seoul.go.kr/welfare/wp-includes/js/jquery/ui/widget.min.js?ver=1.11.4'></script>\n<script type='text/javascript' src='https://news.seoul.go.kr/welfare/wp-includes/js/jquery/ui/mouse.min.js?ver=1.11.4'></script>\n<script type='text/javascript' src='https://news.seoul.go.kr/welfare/wp-includes/js/jquery/ui/resizable.min.js?ver=1.11.4'></script>\n<script type='text/javascript' src='https://news.seoul.go.kr/welfare/wp-includes/js/jquery/ui/draggable.min.js?ver=1.11.4'></script>\n<script type='text/javascript' src='https://news.seoul.go.kr/welfare/wp-includes/js/jquery/ui/button.min.js?ver=1.11.4'></script>\n<script type='text/javascript' src='https://news.seoul.go.kr/welfare/wp-includes/js/jquery/ui/position.min.js?ver=1.11.4'></script>\n<script type='text/javascript' src='https://news.seoul.go.kr/welfare/wp-includes/js/jquery/ui/dialog.min.js?ver=1.11.4'></script>\n<script type='text/javascript' src='https://news.seoul.go.kr/welfare/wp-includes/js/jquery/ui/effect.min.js?ver=1.11.4'></script>\n<script type='text/javascript' src='https://news.seoul.go.kr/welfare/wp-includes/js/wp-embed.min.js?ver=5.4.1'></script>\n\t<!--\n\t</div>\n\t<div class=\"quickmenu\" id=\"quickmenu\" >\n\t\t<script type=\"text/javascript\">initMoving(document.getElementById(\"quickmenu\"),140,66,250);</script>\n\t\t<ul>\n\t\t\t<li class=\"no01\"><a href=\"/archives/70\"><img alt=\"여성취업창업지원\" src=\"https://news.seoul.go.kr/welfare/wp-content/themes/seoul/images/quick_menu01.gif\" /><span>여성취업<br />창업지원</span></a></li>\n\t\t\t<li class=\"no02\"><a href=\"http://www.seoul1366.or.kr/\" target=\"_blank\" title=\"새창으로 열림\"><img alt=\"여성긴급전화\" src=\"https://news.seoul.go.kr/welfare/wp-content/themes/seoul/images/quick_menu02.gif\" /><span>여성긴급전화</span></a></li>\n\t\t\t<li class=\"no03\"><a href=\"http://wm1366.or.kr\" target=\"_blank\" title=\"새창으로 열림\"><img alt=\"이주여성 긴급전화\" src=\"https://news.seoul.go.kr/welfare/wp-content/themes/seoul/images/quick_menu03.gif\" /><span>이주여성<br />긴급전화</span></a></li>\n\t\t\t<li class=\"no04\"><a href=\"/archives/856\"><img alt=\"국공립 어린이집\" src=\"https://news.seoul.go.kr/welfare/wp-content/themes/seoul/images/quick_menu04.gif\" /><span>국공립<br />어린이집</span></a></li>\n\t\t\t<li class=\"no05\"><a href=\"/archives/1212\"><img alt=\"아동청소년시설\" src=\"https://news.seoul.go.kr/welfare/wp-content/themes/seoul/images/quick_menu05.gif\" /><span>아동청소년시설</span></a></li>\n\t\t\t<li class=\"noborder no06\"><a href=\"http://www2.seoul.go.kr/event/woman/ticket_index.html\" target=\"_blank\" title=\"새창으로 열림\"><img alt=\"여성행복 객석신청\" src=\"https://news.seoul.go.kr/welfare/wp-content/themes/seoul/images/quick_menu06.gif\" /><span>여성행복<br />객석신청</span></a></li>\n\t\t</ul>\n\t</div>\n\t-->\n</div> <!-- wrap끝 -->\n<script src=\"//weblog.eseoul.go.kr/wlo/js/install.js\" ></script>\n</body>\n</html>\n\n"
     ]
    }
   ],
   "source": [
    "page = urllib.request.urlopen('https://news.seoul.go.kr/html/27/525381/')\n",
    "html_string = str(page.read().decode(\"utf8\"))\n",
    "print(html_string)"
   ]
  },
  {
   "source": [
    "테이블을 불러올 사이트 입니다. 서울시 코로나 관련 홈페이지이며, 이 중 임시선별검사소 내용을 꺼내올 것입니다."
   ],
   "cell_type": "markdown",
   "metadata": {}
  },
  {
   "cell_type": "code",
   "execution_count": 317,
   "metadata": {
    "tags": []
   },
   "outputs": [],
   "source": [
    "soup = BeautifulSoup(html_string, 'lxml')\n",
    "table = soup.find_all('table')[0] # Grab the first table"
   ]
  },
  {
   "source": [
    "html안에서 테이블을 꺼내옵니다."
   ],
   "cell_type": "markdown",
   "metadata": {}
  },
  {
   "cell_type": "code",
   "execution_count": 318,
   "metadata": {},
   "outputs": [
    {
     "output_type": "stream",
     "name": "stdout",
     "text": [
      "[['연번', '자치구', '개소', '장 소', '개소일시', '운영시간', '비고'], ['\\n계\\n', '\\n25\\n', '\\n52\\n', '\\n52개소\\n', '\\n52개소\\n', '\\n52개소\\n', '\\n52개소\\n'], ['\\n1\\n', '\\n종로\\n', '\\n2\\n', '\\n탑골공원 앞\\n', '\\n12.14~2.14\\n', '\\n평일(월~금) 10:00~17:00\\n토요일 09:00~13:00\\n', '\\n평일 소독시간12~14\\n'], ['\\n1\\n', '\\n종로\\n', '\\n2\\n', '\\n종로구민회관 후문\\n', '\\n12.16~2.14\\n', '\\n평일(월~금) 10:00~17:00\\n토요일 09:00~13:00\\n', '\\n평일 소독시간12~14\\n'], ['\\n2\\n', '\\n중구\\n', '\\n3\\n', '\\n서울역 광장\\n', '\\n12.14~2.14\\n', '\\n평일(월~금) 09:00~17:00\\n토요일 09:00~13:00\\n일요일 09:00~13:00\\n', '\\n평일 소독시간12:30~13:30\\n'], ['\\n2\\n', '\\n중구\\n', '\\n3\\n', '\\n약수동 주민센터 앞\\n', '\\n12.15~2.14\\n', '\\n평일(월~금) 09:00~17:00\\n토요일 09:00~13:00\\n일요일 09:00~13:00\\n', '\\n평일 소독시간12:30~13:30\\n'], ['\\n2\\n', '\\n중구\\n', '\\n3\\n', '\\n서울광장※ 주말 휴무\\n', '\\n12.17~2.14\\n', '\\n평일(월~금) 09:00~17:00\\n토요일 09:00~13:00\\n일요일 09:00~13:00\\n', '\\n평일 소독시간12:30~13:30\\n'], ['\\n3\\n', '\\n용산\\n', '\\n2\\n', '\\n용산역 전면광장\\n', '\\n12.14~2.14\\n', '\\n평일(월~금) 09:00~17:00\\n토요일 09:00~13:00\\n일요일 09:00~13:00\\n', '\\n평일 소독시간12~13\\n'], ['\\n3\\n', '\\n용산\\n', '\\n2\\n', '\\n한남동공영주차장\\n', '\\n12.14~2.14\\n', '\\n평일(월~금) 09:00~17:00\\n토요일 09:00~13:00\\n일요일 09:00~13:00\\n', '\\n평일 소독시간12~13\\n'], ['\\n4\\n', '\\n성동\\n', '\\n2\\n', '\\n성동구청(농구장)\\n', '\\n12.16~2.14\\n', '\\n평일(월~금) 09:00~17:00\\n※ 주말·공휴일 휴무', '\\n\\xa0\\n'], ['\\n4\\n', '\\n성동\\n', '\\n2\\n', '\\n성수구두테마공원(성수역 4번출구 200m)\\n', '\\n12.16~2.10\\n', '\\n평일(월~금) 09:00~17:00\\n※ 주말·공휴일 휴무', '\\n\\xa0\\n'], ['\\n5\\n', '\\n광진\\n', '\\n2\\n', '\\n중곡보건지소\\n', '\\n12.15~2.14\\n', '\\n평일(월~금) 09:00~17:00\\n토요일 12:00~16:00\\n일요일 12:00~16:00\\n', '\\n평일 소독시간13~14\\n'], ['\\n5\\n', '\\n광진\\n', '\\n2\\n', '\\n자양보건지소\\n', '\\n12.15~2.14\\n', '\\n평일(월~금) 09:00~17:00\\n토요일 12:00~16:00\\n일요일 12:00~16:00\\n', '\\n평일 소독시간13~14\\n'], ['\\n6\\n', '\\n동대문\\n', '\\n1\\n', '\\n청량리역 광장\\n', '\\n12.17~2.14\\n', '\\n평일(월~금) 09:00~17:00\\n토요일 12:00~16:00\\n일요일 12:00~16:00\\n', '\\xa0'], ['\\n7\\n', '\\n중랑\\n', '\\n2\\n', '\\n면목역 광장(3번출구)\\n', '\\n12.14~2.14\\n', '\\n평일(월~금) 09:00~17:00\\n토요일 09:00~13:00\\n일요일 09:00~13:00\\n', '\\n소독시간12:30~13:30\\n'], ['\\n7\\n', '\\n중랑\\n', '\\n2\\n', '\\n망우역 공원(1번출구)\\n', '\\n12.14~2.14\\n', '\\n평일(월~금) 09:00~17:00\\n토요일 09:00~13:00\\n일요일 09:00~13:00\\n', '\\n소독시간12:30~13:30\\n'], ['\\n8\\n', '\\n성북\\n', '\\n2\\n', '\\n성북구청 바람마당\\n', '\\n12.15~2.14\\n', '\\n평일(월~금) 09:00~18:00\\n토요일 10:00~15:00\\n일요일 10:00~15:00\\n', '\\n\\xa0\\n'], ['\\n8\\n', '\\n성북\\n', '\\n2\\n', '\\n민방위교육장 주차장(화랑로 376)\\n', '\\n12.21~2.14\\n', '\\n평일(월~금) 09:00~18:00\\n토요일 10:00~15:00\\n일요일 10:00~15:00\\n', '\\n\\xa0\\n'], ['\\n9\\n', '\\n강북\\n', '\\n1\\n', '\\n강북구민운동장\\n', '\\n12.17~2.14\\n', '\\n평일(월~금) 09:00~17:00\\n토요일 09:00~13:00\\n일요일 09:00~13:00\\n', '\\n평일 소독시간12~13\\n'], ['\\n10\\n', '\\n도봉\\n', '\\n2\\n', '\\n창동역(1번출구)\\n', '\\n12.14~2.07\\n', '\\n평일(월~금) 10:00~17:00\\n토요일 10:00~13:00\\n일요일 10:00~13:00\\n', '\\n평일 소독시간12~13\\n'], ['\\n10\\n', '\\n도봉\\n', '\\n2\\n', '\\n도봉구청 광장\\n', '\\n12,18~2.14\\n', '\\n평일(월~금) 10:00~17:00\\n토요일 10:00~13:00\\n일요일 10:00~13:00\\n', '\\n평일 소독시간12~13\\n'], ['\\n11\\n', '\\n노원\\n', '\\n1\\n', '\\n노원구청 주차장\\n', '\\n12.15~2.14\\n', '\\n평일(월~금) 09:00~17:00\\n토요일 12:00~16:00\\n일요일 12:00~16:00\\n※ 공휴일 \\n12:00~16:00\\n', '\\n평일 소독시간12~13\\n'], ['\\n12\\n', '\\n은평\\n', '\\n2\\n', '\\n구파발역\\n', '\\n12.16~2.14\\n', '\\n평일(월~금) 09:00~17:00\\n토요일 09:00~13:00\\n', '\\n소독시간12~14\\n'], ['\\n12\\n', '\\n은평\\n', '\\n2\\n', '\\n불광천(증산로 414)\\n', '\\n12.16~2.14\\n', '\\n평일(월~금) 09:00~17:00\\n토요일 09:00~13:00\\n', '\\n소독시간12~14\\n'], ['\\n13\\n', '\\n서대문\\n', '\\n2\\n', '\\n홍제견인차량보관소※ 토요일 휴무\\n', '\\n12.15~2.14\\n', '\\n평일(월~금) 10:00~17:00\\n토요일 12:00~16:00\\n일요일 12:00~16:00\\n※ 공휴일 \\n12:00~16:00\\n', '\\n평일 소독시간13~14\\n'], ['\\n13\\n', '\\n서대문\\n', '\\n2\\n', '\\n신촌기차역 공영주차장※ 일요일 휴무\\n', '\\n12.15~2.14\\n', '\\n평일(월~금) 10:00~17:00\\n토요일 12:00~16:00\\n일요일 12:00~16:00\\n※ 공휴일 \\n12:00~16:00\\n', '\\n평일 소독시간13~14\\n'], ['\\n14\\n', '\\n마포\\n', '\\n1\\n', '\\n서강대역사 광장\\n', '\\n12.16~2.14\\n', '\\n평일(월~금) 09:00~17:00\\n토\\xa009:00~13:00\\n', '\\n평일 소독시간13~14\\n'], ['\\n15\\n', '\\n양천\\n', '\\n2\\n', '\\n양천구의회 주차장\\n', '\\n12.14~2.14\\n', '\\n평일(월~금) 09:00~17:00\\n토 09:00~13:00\\n', '\\n평일 소독시간12~13\\n'], ['\\n15\\n', '\\n양천\\n', '\\n2\\n', '\\n신월문화체육센터\\n', '\\n12.23~2.14\\n', '\\n평일(월~금) 09:00~17:00\\n토 09:00~13:00\\n', '\\n평일 소독시간12~13\\n'], ['\\n16\\n', '\\n강서\\n', '\\n2\\n', '\\n마곡 8구역 공영주차장(마곡동 728-43, 워킹스루)\\n', '\\n1.18~2.14\\n', '\\n평일(월~금) 10:00~17:00\\n토요일 10:00~14:00\\n일요일 10:00~14:00\\n', '\\n평일 소독시간13~14\\n'], ['\\n16\\n', '\\n강서\\n', '\\n2\\n', '\\n김포공항 국내선주차장(국내선청사 4번게이트 맞은편)※ 차량 이용시 주차요금 발생\\n', '\\n12.25~2.14\\n', '\\n평일(월~금) 10:00~17:00\\n토요일 10:00~14:00\\n일요일 10:00~14:00\\n', '\\n평일 소독시간13~14\\n'], ['\\n17\\n', '\\n구로\\n', '\\n2\\n', '\\n신도림역(4번출구)※ 일요일 휴무\\n', '\\n12.15~2.14\\n', '\\n평일(월~금) 09:00~16:00\\n토요일 09:00~13:00\\n일요일 09:00~13:00\\n※ 2.11~2.14\\n12:00~16:00\\n', '\\n평일 소독시간12~13\\n'], ['\\n17\\n', '\\n구로\\n', '\\n2\\n', '\\n오류동역(3번출구)※ 토요일 휴무\\n', '\\n12.15~2.14\\n', '\\n평일(월~금) 09:00~16:00\\n토요일 09:00~13:00\\n일요일 09:00~13:00\\n※ 2.11~2.14\\n12:00~16:00\\n', '\\n평일 소독시간12~13\\n'], ['\\n18\\n', '\\n금천\\n', '\\n1\\n', '\\n필승아파트 단지 내\\n', '\\n12.15~2.14\\n', '\\n평일(월~금) 10:00~17:00\\n토 10:00~15:00\\n', '\\n소독시간12~13\\n'], ['\\n19\\n', '\\n영등포\\n', '\\n2\\n', '\\n도림동 배드민턴 체육관\\n', '\\n12.15~2.14\\n', '\\n평일(월~금) 09:00~17:00\\n토 09:00~13:00\\n', '\\n평일 소독시간12~13\\n'], ['\\n19\\n', '\\n영등포\\n', '\\n2\\n', '\\n한강 여의도 3주차장 (서강대교 하부)\\n', '\\n12.15~2.14\\n', '\\n평일(월~금) 09:00~17:00\\n토 09:00~13:00\\n', '\\n평일 소독시간12~13\\n'], ['\\n20\\n', '\\n동작\\n', '\\n2\\n', '\\n사당문화회관(사당권역)\\n', '\\n12.14~2.14\\n', '\\n평일(월~금) 10:00~17:00\\n토 10:00~14:00\\n', '\\n\\xa0\\n'], ['\\n20\\n', '\\n동작\\n', '\\n2\\n', '\\n구민체육센터(신대방권역)\\n', '\\n12.14~2.14\\n', '\\n평일(월~금) 10:00~17:00\\n토 10:00~14:00\\n', '\\n\\xa0\\n'], ['\\n21\\n', '\\n관악\\n', '\\n2\\n', '\\n관악구민종합체육센터\\n', '\\n12.15~2.14\\n', '\\n평일(월~금) 10:00~17:00\\n토요일 10:00~15:00\\n', '\\n소독시간12~13\\n'], ['\\n21\\n', '\\n관악\\n', '\\n2\\n', '\\n신림체육센터\\n', '\\n12.14~2.14\\n', '\\n평일(월~금) 10:00~17:00\\n토요일 10:00~15:00\\n', '\\n소독시간12~13\\n'], ['\\n22\\n', '\\n서초\\n', '\\n6\\n', '\\n강남역 9번출구\\n', '\\n12.15~2.14\\n', '\\n평일(월~금) 09:00~17:00\\n토요일 12:00~16:00\\n일요일 12:00~16:00\\n', '평일 소독시간12~13'], ['\\n22\\n', '\\n서초\\n', '\\n6\\n', '\\n고속터미널역 1번출구\\n', '\\n12.15~2.14\\n', '\\n평일(월~금) 09:00~17:00\\n토요일 12:00~16:00\\n일요일 12:00~16:00\\n', '평일 소독시간12~13'], ['\\n22\\n', '\\n서초\\n', '\\n6\\n', '\\n사당역 14번 출구\\n', '\\n12.15~2.14\\n', '\\n평일(월~금) 09:00~17:00\\n토요일 12:00~16:00\\n일요일 12:00~16:00\\n', '평일 소독시간12~13'], ['\\n22\\n', '\\n서초\\n', '\\n6\\n', '\\n양재 근린공원(양재동 311)\\n', '\\n1.18~2.14\\n', '\\n평일(월~금) 09:00~17:00\\n토요일 12:00~16:00\\n일요일 12:00~16:00\\n', '평일 소독시간12~13'], ['\\n22\\n', '\\n서초\\n', '\\n6\\n', '\\n서초종합체육관(드라이브)\\n', '\\n12.22~2.14\\n', '\\n평일(월~금) 09:00~17:00\\n토요일 12:00~16:00\\n일요일 12:00~16:00\\n', '평일 소독시간12~13'], ['\\n22\\n', '\\n서초\\n', '\\n6\\n', '\\n서리풀문화광장 (명달로 148)\\n', '\\n12.23~2.14\\n', '\\n평일(월~금) 09:00~17:00\\n토요일 12:00~16:00\\n일요일 12:00~16:00\\n', '평일 소독시간12~13'], ['\\n23\\n', '\\n강남\\n', '\\n4\\n', '\\n삼성역6번출구(코엑스)\\n', '\\n12.16~2.14\\n', '\\n평일(월~금) 09:00~17:00\\n토요일 09:00~13:00\\n일요일 09:00~13:00\\n', '\\n평일 소독시간12~13\\n'], ['\\n23\\n', '\\n강남\\n', '\\n4\\n', '\\n개포동역 8번출구(개포디지털혁신파크 내)\\n', '\\n12.16~2.14\\n', '\\n평일(월~금) 09:00~17:00\\n토요일 09:00~13:00\\n일요일 09:00~13:00\\n', '\\n평일 소독시간12~13\\n'], ['\\n23\\n', '\\n강남\\n', '\\n4\\n', '\\n압구정공영주차장(압구정동 428번지)\\n', '\\n1.4~2.14\\n', '\\n평일(월~금) 09:00~17:00\\n토요일 09:00~13:00\\n일요일 09:00~13:00\\n', '\\n평일 소독시간12~13\\n'], ['\\n23\\n', '\\n강남\\n', '\\n4\\n', '\\n세곡동방죽공원(율현동 254-3)\\n', '\\n1.4~2.14\\n', '\\n평일(월~금) 09:00~17:00\\n토요일 09:00~13:00\\n일요일 09:00~13:00\\n', '\\n평일 소독시간12~13\\n'], ['\\n24\\n', '\\n송파\\n', '\\n2\\n', '\\n올림픽공원 평화의문 광장\\n', '\\n12.15~2.14\\n', '\\n평일(월~금) 10:00~17:00\\n토요일 10:00~15:00\\n', '\\n소독시간12~13\\n'], ['\\n24\\n', '\\n송파\\n', '\\n2\\n', '\\n송파체육문화회관 주차장\\n', '\\n12.15~2.14\\n', '\\n평일(월~금) 10:00~17:00\\n토요일 10:00~15:00\\n', '\\n소독시간12~13\\n'], ['\\n25\\n', '\\n강동\\n', '\\n2\\n', '\\n암사동 선사주거지 주차장\\n', '\\n12.14~2.14\\n', '\\n평일(월~금) 09:00~17:00\\n토요일 09:00~13:00\\n일요일 09:00~13:00\\n', '\\n평일 소독시간12~13\\n'], ['\\n25\\n', '\\n강동\\n', '\\n2\\n', '\\n온조대왕문화체육관\\n', '\\n12.14~2.14\\n', '\\n평일(월~금) 09:00~17:00\\n토요일 09:00~13:00\\n일요일 09:00~13:00\\n', '\\n평일 소독시간12~13\\n']]\n"
     ]
    }
   ],
   "source": [
    "tableList = table_to_2d(table)\n",
    "print(tableList)"
   ]
  },
  {
   "source": [
    "중간중간 \\n(앤터)의 흔적이 있습니다. 지워주도록 합시다."
   ],
   "cell_type": "markdown",
   "metadata": {}
  },
  {
   "source": [
    "# Pandas를 이용해서 데이터 확인하기"
   ],
   "cell_type": "markdown",
   "metadata": {}
  },
  {
   "cell_type": "code",
   "execution_count": 319,
   "metadata": {},
   "outputs": [
    {
     "output_type": "execute_result",
     "data": {
      "text/plain": [
       "    연번  자치구 개소                                           장 소        개소일시  \\\n",
       "0    1   종로  2                                        탑골공원 앞  12.14~2.14   \n",
       "1    1   종로  2                                     종로구민회관 후문  12.16~2.14   \n",
       "2    2   중구  3                                        서울역 광장  12.14~2.14   \n",
       "3    2   중구  3                                    약수동 주민센터 앞  12.15~2.14   \n",
       "4    2   중구  3                                   서울광장※ 주말 휴무  12.17~2.14   \n",
       "5    3   용산  2                                      용산역 전면광장  12.14~2.14   \n",
       "6    3   용산  2                                      한남동공영주차장  12.14~2.14   \n",
       "7    4   성동  2                                     성동구청(농구장)  12.16~2.14   \n",
       "8    4   성동  2                       성수구두테마공원(성수역 4번출구 200m)  12.16~2.10   \n",
       "9    5   광진  2                                        중곡보건지소  12.15~2.14   \n",
       "10   5   광진  2                                        자양보건지소  12.15~2.14   \n",
       "11   6  동대문  1                                       청량리역 광장  12.17~2.14   \n",
       "12   7   중랑  2                                  면목역 광장(3번출구)  12.14~2.14   \n",
       "13   7   중랑  2                                  망우역 공원(1번출구)  12.14~2.14   \n",
       "14   8   성북  2                                     성북구청 바람마당  12.15~2.14   \n",
       "15   8   성북  2                           민방위교육장 주차장(화랑로 376)  12.21~2.14   \n",
       "16   9   강북  1                                       강북구민운동장  12.17~2.14   \n",
       "17  10   도봉  2                                     창동역(1번출구)  12.14~2.07   \n",
       "18  10   도봉  2                                       도봉구청 광장  12,18~2.14   \n",
       "19  11   노원  1                                      노원구청 주차장  12.15~2.14   \n",
       "20  12   은평  2                                          구파발역  12.16~2.14   \n",
       "21  12   은평  2                                  불광천(증산로 414)  12.16~2.14   \n",
       "22  13  서대문  2                             홍제견인차량보관소※ 토요일 휴무  12.15~2.14   \n",
       "23  13  서대문  2                           신촌기차역 공영주차장※ 일요일 휴무  12.15~2.14   \n",
       "24  14   마포  1                                      서강대역사 광장  12.16~2.14   \n",
       "25  15   양천  2                                     양천구의회 주차장  12.14~2.14   \n",
       "26  15   양천  2                                      신월문화체육센터  12.23~2.14   \n",
       "27  16   강서  2                마곡 8구역 공영주차장(마곡동 728-43, 워킹스루)   1.18~2.14   \n",
       "28  16   강서  2  김포공항 국내선주차장(국내선청사 4번게이트 맞은편)※ 차량 이용시 주차요금 발생  12.25~2.14   \n",
       "29  17   구로  2                            신도림역(4번출구)※ 일요일 휴무  12.15~2.14   \n",
       "30  17   구로  2                            오류동역(3번출구)※ 토요일 휴무  12.15~2.14   \n",
       "31  18   금천  1                                    필승아파트 단지 내  12.15~2.14   \n",
       "32  19  영등포  2                                  도림동 배드민턴 체육관  12.15~2.14   \n",
       "33  19  영등포  2                         한강 여의도 3주차장 (서강대교 하부)  12.15~2.14   \n",
       "34  20   동작  2                                  사당문화회관(사당권역)  12.14~2.14   \n",
       "35  20   동작  2                                 구민체육센터(신대방권역)  12.14~2.14   \n",
       "36  21   관악  2                                    관악구민종합체육센터  12.15~2.14   \n",
       "37  21   관악  2                                        신림체육센터  12.14~2.14   \n",
       "38  22   서초  6                                      강남역 9번출구  12.15~2.14   \n",
       "39  22   서초  6                                   고속터미널역 1번출구  12.15~2.14   \n",
       "40  22   서초  6                                    사당역 14번 출구  12.15~2.14   \n",
       "41  22   서초  6                              양재 근린공원(양재동 311)   1.18~2.14   \n",
       "42  22   서초  6                                 서초종합체육관(드라이브)  12.22~2.14   \n",
       "43  22   서초  6                             서리풀문화광장 (명달로 148)  12.23~2.14   \n",
       "44  23   강남  4                                  삼성역6번출구(코엑스)  12.16~2.14   \n",
       "45  23   강남  4                        개포동역 8번출구(개포디지털혁신파크 내)  12.16~2.14   \n",
       "46  23   강남  4                          압구정공영주차장(압구정동 428번지)    1.4~2.14   \n",
       "47  23   강남  4                            세곡동방죽공원(율현동 254-3)    1.4~2.14   \n",
       "48  24   송파  2                                 올림픽공원 평화의문 광장  12.15~2.14   \n",
       "49  24   송파  2                                  송파체육문화회관 주차장  12.15~2.14   \n",
       "50  25   강동  2                                 암사동 선사주거지 주차장  12.14~2.14   \n",
       "51  25   강동  2                                     온조대왕문화체육관  12.14~2.14   \n",
       "\n",
       "                                                 운영시간                  비고  \n",
       "0                평일(월~금) 10:00~17:00\\n토요일 09:00~13:00        평일 소독시간12~14  \n",
       "1                평일(월~금) 10:00~17:00\\n토요일 09:00~13:00        평일 소독시간12~14  \n",
       "2   평일(월~금) 09:00~17:00\\n토요일 09:00~13:00\\n일요일 09:0...  평일 소독시간12:30~13:30  \n",
       "3   평일(월~금) 09:00~17:00\\n토요일 09:00~13:00\\n일요일 09:0...  평일 소독시간12:30~13:30  \n",
       "4   평일(월~금) 09:00~17:00\\n토요일 09:00~13:00\\n일요일 09:0...  평일 소독시간12:30~13:30  \n",
       "5   평일(월~금) 09:00~17:00\\n토요일 09:00~13:00\\n일요일 09:0...        평일 소독시간12~13  \n",
       "6   평일(월~금) 09:00~17:00\\n토요일 09:00~13:00\\n일요일 09:0...        평일 소독시간12~13  \n",
       "7                    평일(월~금) 09:00~17:00\\n※ 주말·공휴일 휴무                      \n",
       "8                    평일(월~금) 09:00~17:00\\n※ 주말·공휴일 휴무                      \n",
       "9   평일(월~금) 09:00~17:00\\n토요일 12:00~16:00\\n일요일 12:0...        평일 소독시간13~14  \n",
       "10  평일(월~금) 09:00~17:00\\n토요일 12:00~16:00\\n일요일 12:0...        평일 소독시간13~14  \n",
       "11  평일(월~금) 09:00~17:00\\n토요일 12:00~16:00\\n일요일 12:0...                      \n",
       "12  평일(월~금) 09:00~17:00\\n토요일 09:00~13:00\\n일요일 09:0...     소독시간12:30~13:30  \n",
       "13  평일(월~금) 09:00~17:00\\n토요일 09:00~13:00\\n일요일 09:0...     소독시간12:30~13:30  \n",
       "14  평일(월~금) 09:00~18:00\\n토요일 10:00~15:00\\n일요일 10:0...                      \n",
       "15  평일(월~금) 09:00~18:00\\n토요일 10:00~15:00\\n일요일 10:0...                      \n",
       "16  평일(월~금) 09:00~17:00\\n토요일 09:00~13:00\\n일요일 09:0...        평일 소독시간12~13  \n",
       "17  평일(월~금) 10:00~17:00\\n토요일 10:00~13:00\\n일요일 10:0...        평일 소독시간12~13  \n",
       "18  평일(월~금) 10:00~17:00\\n토요일 10:00~13:00\\n일요일 10:0...        평일 소독시간12~13  \n",
       "19  평일(월~금) 09:00~17:00\\n토요일 12:00~16:00\\n일요일 12:0...        평일 소독시간12~13  \n",
       "20               평일(월~금) 09:00~17:00\\n토요일 09:00~13:00           소독시간12~14  \n",
       "21               평일(월~금) 09:00~17:00\\n토요일 09:00~13:00           소독시간12~14  \n",
       "22  평일(월~금) 10:00~17:00\\n토요일 12:00~16:00\\n일요일 12:0...        평일 소독시간13~14  \n",
       "23  평일(월~금) 10:00~17:00\\n토요일 12:00~16:00\\n일요일 12:0...        평일 소독시간13~14  \n",
       "24                 평일(월~금) 09:00~17:00\\n토 09:00~13:00        평일 소독시간13~14  \n",
       "25                 평일(월~금) 09:00~17:00\\n토 09:00~13:00        평일 소독시간12~13  \n",
       "26                 평일(월~금) 09:00~17:00\\n토 09:00~13:00        평일 소독시간12~13  \n",
       "27  평일(월~금) 10:00~17:00\\n토요일 10:00~14:00\\n일요일 10:0...        평일 소독시간13~14  \n",
       "28  평일(월~금) 10:00~17:00\\n토요일 10:00~14:00\\n일요일 10:0...        평일 소독시간13~14  \n",
       "29  평일(월~금) 09:00~16:00\\n토요일 09:00~13:00\\n일요일 09:0...        평일 소독시간12~13  \n",
       "30  평일(월~금) 09:00~16:00\\n토요일 09:00~13:00\\n일요일 09:0...        평일 소독시간12~13  \n",
       "31                 평일(월~금) 10:00~17:00\\n토 10:00~15:00           소독시간12~13  \n",
       "32                 평일(월~금) 09:00~17:00\\n토 09:00~13:00        평일 소독시간12~13  \n",
       "33                 평일(월~금) 09:00~17:00\\n토 09:00~13:00        평일 소독시간12~13  \n",
       "34                 평일(월~금) 10:00~17:00\\n토 10:00~14:00                      \n",
       "35                 평일(월~금) 10:00~17:00\\n토 10:00~14:00                      \n",
       "36               평일(월~금) 10:00~17:00\\n토요일 10:00~15:00           소독시간12~13  \n",
       "37               평일(월~금) 10:00~17:00\\n토요일 10:00~15:00           소독시간12~13  \n",
       "38  평일(월~금) 09:00~17:00\\n토요일 12:00~16:00\\n일요일 12:0...        평일 소독시간12~13  \n",
       "39  평일(월~금) 09:00~17:00\\n토요일 12:00~16:00\\n일요일 12:0...        평일 소독시간12~13  \n",
       "40  평일(월~금) 09:00~17:00\\n토요일 12:00~16:00\\n일요일 12:0...        평일 소독시간12~13  \n",
       "41  평일(월~금) 09:00~17:00\\n토요일 12:00~16:00\\n일요일 12:0...        평일 소독시간12~13  \n",
       "42  평일(월~금) 09:00~17:00\\n토요일 12:00~16:00\\n일요일 12:0...        평일 소독시간12~13  \n",
       "43  평일(월~금) 09:00~17:00\\n토요일 12:00~16:00\\n일요일 12:0...        평일 소독시간12~13  \n",
       "44  평일(월~금) 09:00~17:00\\n토요일 09:00~13:00\\n일요일 09:0...        평일 소독시간12~13  \n",
       "45  평일(월~금) 09:00~17:00\\n토요일 09:00~13:00\\n일요일 09:0...        평일 소독시간12~13  \n",
       "46  평일(월~금) 09:00~17:00\\n토요일 09:00~13:00\\n일요일 09:0...        평일 소독시간12~13  \n",
       "47  평일(월~금) 09:00~17:00\\n토요일 09:00~13:00\\n일요일 09:0...        평일 소독시간12~13  \n",
       "48               평일(월~금) 10:00~17:00\\n토요일 10:00~15:00           소독시간12~13  \n",
       "49               평일(월~금) 10:00~17:00\\n토요일 10:00~15:00           소독시간12~13  \n",
       "50  평일(월~금) 09:00~17:00\\n토요일 09:00~13:00\\n일요일 09:0...        평일 소독시간12~13  \n",
       "51  평일(월~금) 09:00~17:00\\n토요일 09:00~13:00\\n일요일 09:0...        평일 소독시간12~13  "
      ],
      "text/html": "<div>\n<style scoped>\n    .dataframe tbody tr th:only-of-type {\n        vertical-align: middle;\n    }\n\n    .dataframe tbody tr th {\n        vertical-align: top;\n    }\n\n    .dataframe thead th {\n        text-align: right;\n    }\n</style>\n<table border=\"1\" class=\"dataframe\">\n  <thead>\n    <tr style=\"text-align: right;\">\n      <th></th>\n      <th>연번</th>\n      <th>자치구</th>\n      <th>개소</th>\n      <th>장 소</th>\n      <th>개소일시</th>\n      <th>운영시간</th>\n      <th>비고</th>\n    </tr>\n  </thead>\n  <tbody>\n    <tr>\n      <th>0</th>\n      <td>1</td>\n      <td>종로</td>\n      <td>2</td>\n      <td>탑골공원 앞</td>\n      <td>12.14~2.14</td>\n      <td>평일(월~금) 10:00~17:00\\n토요일 09:00~13:00</td>\n      <td>평일 소독시간12~14</td>\n    </tr>\n    <tr>\n      <th>1</th>\n      <td>1</td>\n      <td>종로</td>\n      <td>2</td>\n      <td>종로구민회관 후문</td>\n      <td>12.16~2.14</td>\n      <td>평일(월~금) 10:00~17:00\\n토요일 09:00~13:00</td>\n      <td>평일 소독시간12~14</td>\n    </tr>\n    <tr>\n      <th>2</th>\n      <td>2</td>\n      <td>중구</td>\n      <td>3</td>\n      <td>서울역 광장</td>\n      <td>12.14~2.14</td>\n      <td>평일(월~금) 09:00~17:00\\n토요일 09:00~13:00\\n일요일 09:0...</td>\n      <td>평일 소독시간12:30~13:30</td>\n    </tr>\n    <tr>\n      <th>3</th>\n      <td>2</td>\n      <td>중구</td>\n      <td>3</td>\n      <td>약수동 주민센터 앞</td>\n      <td>12.15~2.14</td>\n      <td>평일(월~금) 09:00~17:00\\n토요일 09:00~13:00\\n일요일 09:0...</td>\n      <td>평일 소독시간12:30~13:30</td>\n    </tr>\n    <tr>\n      <th>4</th>\n      <td>2</td>\n      <td>중구</td>\n      <td>3</td>\n      <td>서울광장※ 주말 휴무</td>\n      <td>12.17~2.14</td>\n      <td>평일(월~금) 09:00~17:00\\n토요일 09:00~13:00\\n일요일 09:0...</td>\n      <td>평일 소독시간12:30~13:30</td>\n    </tr>\n    <tr>\n      <th>5</th>\n      <td>3</td>\n      <td>용산</td>\n      <td>2</td>\n      <td>용산역 전면광장</td>\n      <td>12.14~2.14</td>\n      <td>평일(월~금) 09:00~17:00\\n토요일 09:00~13:00\\n일요일 09:0...</td>\n      <td>평일 소독시간12~13</td>\n    </tr>\n    <tr>\n      <th>6</th>\n      <td>3</td>\n      <td>용산</td>\n      <td>2</td>\n      <td>한남동공영주차장</td>\n      <td>12.14~2.14</td>\n      <td>평일(월~금) 09:00~17:00\\n토요일 09:00~13:00\\n일요일 09:0...</td>\n      <td>평일 소독시간12~13</td>\n    </tr>\n    <tr>\n      <th>7</th>\n      <td>4</td>\n      <td>성동</td>\n      <td>2</td>\n      <td>성동구청(농구장)</td>\n      <td>12.16~2.14</td>\n      <td>평일(월~금) 09:00~17:00\\n※ 주말·공휴일 휴무</td>\n      <td></td>\n    </tr>\n    <tr>\n      <th>8</th>\n      <td>4</td>\n      <td>성동</td>\n      <td>2</td>\n      <td>성수구두테마공원(성수역 4번출구 200m)</td>\n      <td>12.16~2.10</td>\n      <td>평일(월~금) 09:00~17:00\\n※ 주말·공휴일 휴무</td>\n      <td></td>\n    </tr>\n    <tr>\n      <th>9</th>\n      <td>5</td>\n      <td>광진</td>\n      <td>2</td>\n      <td>중곡보건지소</td>\n      <td>12.15~2.14</td>\n      <td>평일(월~금) 09:00~17:00\\n토요일 12:00~16:00\\n일요일 12:0...</td>\n      <td>평일 소독시간13~14</td>\n    </tr>\n    <tr>\n      <th>10</th>\n      <td>5</td>\n      <td>광진</td>\n      <td>2</td>\n      <td>자양보건지소</td>\n      <td>12.15~2.14</td>\n      <td>평일(월~금) 09:00~17:00\\n토요일 12:00~16:00\\n일요일 12:0...</td>\n      <td>평일 소독시간13~14</td>\n    </tr>\n    <tr>\n      <th>11</th>\n      <td>6</td>\n      <td>동대문</td>\n      <td>1</td>\n      <td>청량리역 광장</td>\n      <td>12.17~2.14</td>\n      <td>평일(월~금) 09:00~17:00\\n토요일 12:00~16:00\\n일요일 12:0...</td>\n      <td></td>\n    </tr>\n    <tr>\n      <th>12</th>\n      <td>7</td>\n      <td>중랑</td>\n      <td>2</td>\n      <td>면목역 광장(3번출구)</td>\n      <td>12.14~2.14</td>\n      <td>평일(월~금) 09:00~17:00\\n토요일 09:00~13:00\\n일요일 09:0...</td>\n      <td>소독시간12:30~13:30</td>\n    </tr>\n    <tr>\n      <th>13</th>\n      <td>7</td>\n      <td>중랑</td>\n      <td>2</td>\n      <td>망우역 공원(1번출구)</td>\n      <td>12.14~2.14</td>\n      <td>평일(월~금) 09:00~17:00\\n토요일 09:00~13:00\\n일요일 09:0...</td>\n      <td>소독시간12:30~13:30</td>\n    </tr>\n    <tr>\n      <th>14</th>\n      <td>8</td>\n      <td>성북</td>\n      <td>2</td>\n      <td>성북구청 바람마당</td>\n      <td>12.15~2.14</td>\n      <td>평일(월~금) 09:00~18:00\\n토요일 10:00~15:00\\n일요일 10:0...</td>\n      <td></td>\n    </tr>\n    <tr>\n      <th>15</th>\n      <td>8</td>\n      <td>성북</td>\n      <td>2</td>\n      <td>민방위교육장 주차장(화랑로 376)</td>\n      <td>12.21~2.14</td>\n      <td>평일(월~금) 09:00~18:00\\n토요일 10:00~15:00\\n일요일 10:0...</td>\n      <td></td>\n    </tr>\n    <tr>\n      <th>16</th>\n      <td>9</td>\n      <td>강북</td>\n      <td>1</td>\n      <td>강북구민운동장</td>\n      <td>12.17~2.14</td>\n      <td>평일(월~금) 09:00~17:00\\n토요일 09:00~13:00\\n일요일 09:0...</td>\n      <td>평일 소독시간12~13</td>\n    </tr>\n    <tr>\n      <th>17</th>\n      <td>10</td>\n      <td>도봉</td>\n      <td>2</td>\n      <td>창동역(1번출구)</td>\n      <td>12.14~2.07</td>\n      <td>평일(월~금) 10:00~17:00\\n토요일 10:00~13:00\\n일요일 10:0...</td>\n      <td>평일 소독시간12~13</td>\n    </tr>\n    <tr>\n      <th>18</th>\n      <td>10</td>\n      <td>도봉</td>\n      <td>2</td>\n      <td>도봉구청 광장</td>\n      <td>12,18~2.14</td>\n      <td>평일(월~금) 10:00~17:00\\n토요일 10:00~13:00\\n일요일 10:0...</td>\n      <td>평일 소독시간12~13</td>\n    </tr>\n    <tr>\n      <th>19</th>\n      <td>11</td>\n      <td>노원</td>\n      <td>1</td>\n      <td>노원구청 주차장</td>\n      <td>12.15~2.14</td>\n      <td>평일(월~금) 09:00~17:00\\n토요일 12:00~16:00\\n일요일 12:0...</td>\n      <td>평일 소독시간12~13</td>\n    </tr>\n    <tr>\n      <th>20</th>\n      <td>12</td>\n      <td>은평</td>\n      <td>2</td>\n      <td>구파발역</td>\n      <td>12.16~2.14</td>\n      <td>평일(월~금) 09:00~17:00\\n토요일 09:00~13:00</td>\n      <td>소독시간12~14</td>\n    </tr>\n    <tr>\n      <th>21</th>\n      <td>12</td>\n      <td>은평</td>\n      <td>2</td>\n      <td>불광천(증산로 414)</td>\n      <td>12.16~2.14</td>\n      <td>평일(월~금) 09:00~17:00\\n토요일 09:00~13:00</td>\n      <td>소독시간12~14</td>\n    </tr>\n    <tr>\n      <th>22</th>\n      <td>13</td>\n      <td>서대문</td>\n      <td>2</td>\n      <td>홍제견인차량보관소※ 토요일 휴무</td>\n      <td>12.15~2.14</td>\n      <td>평일(월~금) 10:00~17:00\\n토요일 12:00~16:00\\n일요일 12:0...</td>\n      <td>평일 소독시간13~14</td>\n    </tr>\n    <tr>\n      <th>23</th>\n      <td>13</td>\n      <td>서대문</td>\n      <td>2</td>\n      <td>신촌기차역 공영주차장※ 일요일 휴무</td>\n      <td>12.15~2.14</td>\n      <td>평일(월~금) 10:00~17:00\\n토요일 12:00~16:00\\n일요일 12:0...</td>\n      <td>평일 소독시간13~14</td>\n    </tr>\n    <tr>\n      <th>24</th>\n      <td>14</td>\n      <td>마포</td>\n      <td>1</td>\n      <td>서강대역사 광장</td>\n      <td>12.16~2.14</td>\n      <td>평일(월~금) 09:00~17:00\\n토 09:00~13:00</td>\n      <td>평일 소독시간13~14</td>\n    </tr>\n    <tr>\n      <th>25</th>\n      <td>15</td>\n      <td>양천</td>\n      <td>2</td>\n      <td>양천구의회 주차장</td>\n      <td>12.14~2.14</td>\n      <td>평일(월~금) 09:00~17:00\\n토 09:00~13:00</td>\n      <td>평일 소독시간12~13</td>\n    </tr>\n    <tr>\n      <th>26</th>\n      <td>15</td>\n      <td>양천</td>\n      <td>2</td>\n      <td>신월문화체육센터</td>\n      <td>12.23~2.14</td>\n      <td>평일(월~금) 09:00~17:00\\n토 09:00~13:00</td>\n      <td>평일 소독시간12~13</td>\n    </tr>\n    <tr>\n      <th>27</th>\n      <td>16</td>\n      <td>강서</td>\n      <td>2</td>\n      <td>마곡 8구역 공영주차장(마곡동 728-43, 워킹스루)</td>\n      <td>1.18~2.14</td>\n      <td>평일(월~금) 10:00~17:00\\n토요일 10:00~14:00\\n일요일 10:0...</td>\n      <td>평일 소독시간13~14</td>\n    </tr>\n    <tr>\n      <th>28</th>\n      <td>16</td>\n      <td>강서</td>\n      <td>2</td>\n      <td>김포공항 국내선주차장(국내선청사 4번게이트 맞은편)※ 차량 이용시 주차요금 발생</td>\n      <td>12.25~2.14</td>\n      <td>평일(월~금) 10:00~17:00\\n토요일 10:00~14:00\\n일요일 10:0...</td>\n      <td>평일 소독시간13~14</td>\n    </tr>\n    <tr>\n      <th>29</th>\n      <td>17</td>\n      <td>구로</td>\n      <td>2</td>\n      <td>신도림역(4번출구)※ 일요일 휴무</td>\n      <td>12.15~2.14</td>\n      <td>평일(월~금) 09:00~16:00\\n토요일 09:00~13:00\\n일요일 09:0...</td>\n      <td>평일 소독시간12~13</td>\n    </tr>\n    <tr>\n      <th>30</th>\n      <td>17</td>\n      <td>구로</td>\n      <td>2</td>\n      <td>오류동역(3번출구)※ 토요일 휴무</td>\n      <td>12.15~2.14</td>\n      <td>평일(월~금) 09:00~16:00\\n토요일 09:00~13:00\\n일요일 09:0...</td>\n      <td>평일 소독시간12~13</td>\n    </tr>\n    <tr>\n      <th>31</th>\n      <td>18</td>\n      <td>금천</td>\n      <td>1</td>\n      <td>필승아파트 단지 내</td>\n      <td>12.15~2.14</td>\n      <td>평일(월~금) 10:00~17:00\\n토 10:00~15:00</td>\n      <td>소독시간12~13</td>\n    </tr>\n    <tr>\n      <th>32</th>\n      <td>19</td>\n      <td>영등포</td>\n      <td>2</td>\n      <td>도림동 배드민턴 체육관</td>\n      <td>12.15~2.14</td>\n      <td>평일(월~금) 09:00~17:00\\n토 09:00~13:00</td>\n      <td>평일 소독시간12~13</td>\n    </tr>\n    <tr>\n      <th>33</th>\n      <td>19</td>\n      <td>영등포</td>\n      <td>2</td>\n      <td>한강 여의도 3주차장 (서강대교 하부)</td>\n      <td>12.15~2.14</td>\n      <td>평일(월~금) 09:00~17:00\\n토 09:00~13:00</td>\n      <td>평일 소독시간12~13</td>\n    </tr>\n    <tr>\n      <th>34</th>\n      <td>20</td>\n      <td>동작</td>\n      <td>2</td>\n      <td>사당문화회관(사당권역)</td>\n      <td>12.14~2.14</td>\n      <td>평일(월~금) 10:00~17:00\\n토 10:00~14:00</td>\n      <td></td>\n    </tr>\n    <tr>\n      <th>35</th>\n      <td>20</td>\n      <td>동작</td>\n      <td>2</td>\n      <td>구민체육센터(신대방권역)</td>\n      <td>12.14~2.14</td>\n      <td>평일(월~금) 10:00~17:00\\n토 10:00~14:00</td>\n      <td></td>\n    </tr>\n    <tr>\n      <th>36</th>\n      <td>21</td>\n      <td>관악</td>\n      <td>2</td>\n      <td>관악구민종합체육센터</td>\n      <td>12.15~2.14</td>\n      <td>평일(월~금) 10:00~17:00\\n토요일 10:00~15:00</td>\n      <td>소독시간12~13</td>\n    </tr>\n    <tr>\n      <th>37</th>\n      <td>21</td>\n      <td>관악</td>\n      <td>2</td>\n      <td>신림체육센터</td>\n      <td>12.14~2.14</td>\n      <td>평일(월~금) 10:00~17:00\\n토요일 10:00~15:00</td>\n      <td>소독시간12~13</td>\n    </tr>\n    <tr>\n      <th>38</th>\n      <td>22</td>\n      <td>서초</td>\n      <td>6</td>\n      <td>강남역 9번출구</td>\n      <td>12.15~2.14</td>\n      <td>평일(월~금) 09:00~17:00\\n토요일 12:00~16:00\\n일요일 12:0...</td>\n      <td>평일 소독시간12~13</td>\n    </tr>\n    <tr>\n      <th>39</th>\n      <td>22</td>\n      <td>서초</td>\n      <td>6</td>\n      <td>고속터미널역 1번출구</td>\n      <td>12.15~2.14</td>\n      <td>평일(월~금) 09:00~17:00\\n토요일 12:00~16:00\\n일요일 12:0...</td>\n      <td>평일 소독시간12~13</td>\n    </tr>\n    <tr>\n      <th>40</th>\n      <td>22</td>\n      <td>서초</td>\n      <td>6</td>\n      <td>사당역 14번 출구</td>\n      <td>12.15~2.14</td>\n      <td>평일(월~금) 09:00~17:00\\n토요일 12:00~16:00\\n일요일 12:0...</td>\n      <td>평일 소독시간12~13</td>\n    </tr>\n    <tr>\n      <th>41</th>\n      <td>22</td>\n      <td>서초</td>\n      <td>6</td>\n      <td>양재 근린공원(양재동 311)</td>\n      <td>1.18~2.14</td>\n      <td>평일(월~금) 09:00~17:00\\n토요일 12:00~16:00\\n일요일 12:0...</td>\n      <td>평일 소독시간12~13</td>\n    </tr>\n    <tr>\n      <th>42</th>\n      <td>22</td>\n      <td>서초</td>\n      <td>6</td>\n      <td>서초종합체육관(드라이브)</td>\n      <td>12.22~2.14</td>\n      <td>평일(월~금) 09:00~17:00\\n토요일 12:00~16:00\\n일요일 12:0...</td>\n      <td>평일 소독시간12~13</td>\n    </tr>\n    <tr>\n      <th>43</th>\n      <td>22</td>\n      <td>서초</td>\n      <td>6</td>\n      <td>서리풀문화광장 (명달로 148)</td>\n      <td>12.23~2.14</td>\n      <td>평일(월~금) 09:00~17:00\\n토요일 12:00~16:00\\n일요일 12:0...</td>\n      <td>평일 소독시간12~13</td>\n    </tr>\n    <tr>\n      <th>44</th>\n      <td>23</td>\n      <td>강남</td>\n      <td>4</td>\n      <td>삼성역6번출구(코엑스)</td>\n      <td>12.16~2.14</td>\n      <td>평일(월~금) 09:00~17:00\\n토요일 09:00~13:00\\n일요일 09:0...</td>\n      <td>평일 소독시간12~13</td>\n    </tr>\n    <tr>\n      <th>45</th>\n      <td>23</td>\n      <td>강남</td>\n      <td>4</td>\n      <td>개포동역 8번출구(개포디지털혁신파크 내)</td>\n      <td>12.16~2.14</td>\n      <td>평일(월~금) 09:00~17:00\\n토요일 09:00~13:00\\n일요일 09:0...</td>\n      <td>평일 소독시간12~13</td>\n    </tr>\n    <tr>\n      <th>46</th>\n      <td>23</td>\n      <td>강남</td>\n      <td>4</td>\n      <td>압구정공영주차장(압구정동 428번지)</td>\n      <td>1.4~2.14</td>\n      <td>평일(월~금) 09:00~17:00\\n토요일 09:00~13:00\\n일요일 09:0...</td>\n      <td>평일 소독시간12~13</td>\n    </tr>\n    <tr>\n      <th>47</th>\n      <td>23</td>\n      <td>강남</td>\n      <td>4</td>\n      <td>세곡동방죽공원(율현동 254-3)</td>\n      <td>1.4~2.14</td>\n      <td>평일(월~금) 09:00~17:00\\n토요일 09:00~13:00\\n일요일 09:0...</td>\n      <td>평일 소독시간12~13</td>\n    </tr>\n    <tr>\n      <th>48</th>\n      <td>24</td>\n      <td>송파</td>\n      <td>2</td>\n      <td>올림픽공원 평화의문 광장</td>\n      <td>12.15~2.14</td>\n      <td>평일(월~금) 10:00~17:00\\n토요일 10:00~15:00</td>\n      <td>소독시간12~13</td>\n    </tr>\n    <tr>\n      <th>49</th>\n      <td>24</td>\n      <td>송파</td>\n      <td>2</td>\n      <td>송파체육문화회관 주차장</td>\n      <td>12.15~2.14</td>\n      <td>평일(월~금) 10:00~17:00\\n토요일 10:00~15:00</td>\n      <td>소독시간12~13</td>\n    </tr>\n    <tr>\n      <th>50</th>\n      <td>25</td>\n      <td>강동</td>\n      <td>2</td>\n      <td>암사동 선사주거지 주차장</td>\n      <td>12.14~2.14</td>\n      <td>평일(월~금) 09:00~17:00\\n토요일 09:00~13:00\\n일요일 09:0...</td>\n      <td>평일 소독시간12~13</td>\n    </tr>\n    <tr>\n      <th>51</th>\n      <td>25</td>\n      <td>강동</td>\n      <td>2</td>\n      <td>온조대왕문화체육관</td>\n      <td>12.14~2.14</td>\n      <td>평일(월~금) 09:00~17:00\\n토요일 09:00~13:00\\n일요일 09:0...</td>\n      <td>평일 소독시간12~13</td>\n    </tr>\n  </tbody>\n</table>\n</div>"
     },
     "metadata": {},
     "execution_count": 319
    }
   ],
   "source": [
    "newTableList = deleteEnter(tableList)\n",
    "df = DataFrame (newTableList[2:],columns=newTableList[0])\n",
    "df.head(52)"
   ]
  },
  {
   "source": [
    "개소 부분이 오해가 있을 거 같습니다. 지워주도록 합시다."
   ],
   "cell_type": "markdown",
   "metadata": {}
  },
  {
   "cell_type": "code",
   "execution_count": 320,
   "metadata": {},
   "outputs": [
    {
     "output_type": "execute_result",
     "data": {
      "text/plain": [
       "    연번  자치구                                           장 소        개소일시  \\\n",
       "0    1   종로                                        탑골공원 앞  12.14~2.14   \n",
       "1    1   종로                                     종로구민회관 후문  12.16~2.14   \n",
       "2    2   중구                                        서울역 광장  12.14~2.14   \n",
       "3    2   중구                                    약수동 주민센터 앞  12.15~2.14   \n",
       "4    2   중구                                   서울광장※ 주말 휴무  12.17~2.14   \n",
       "5    3   용산                                      용산역 전면광장  12.14~2.14   \n",
       "6    3   용산                                      한남동공영주차장  12.14~2.14   \n",
       "7    4   성동                                     성동구청(농구장)  12.16~2.14   \n",
       "8    4   성동                       성수구두테마공원(성수역 4번출구 200m)  12.16~2.10   \n",
       "9    5   광진                                        중곡보건지소  12.15~2.14   \n",
       "10   5   광진                                        자양보건지소  12.15~2.14   \n",
       "11   6  동대문                                       청량리역 광장  12.17~2.14   \n",
       "12   7   중랑                                  면목역 광장(3번출구)  12.14~2.14   \n",
       "13   7   중랑                                  망우역 공원(1번출구)  12.14~2.14   \n",
       "14   8   성북                                     성북구청 바람마당  12.15~2.14   \n",
       "15   8   성북                           민방위교육장 주차장(화랑로 376)  12.21~2.14   \n",
       "16   9   강북                                       강북구민운동장  12.17~2.14   \n",
       "17  10   도봉                                     창동역(1번출구)  12.14~2.07   \n",
       "18  10   도봉                                       도봉구청 광장  12,18~2.14   \n",
       "19  11   노원                                      노원구청 주차장  12.15~2.14   \n",
       "20  12   은평                                          구파발역  12.16~2.14   \n",
       "21  12   은평                                  불광천(증산로 414)  12.16~2.14   \n",
       "22  13  서대문                             홍제견인차량보관소※ 토요일 휴무  12.15~2.14   \n",
       "23  13  서대문                           신촌기차역 공영주차장※ 일요일 휴무  12.15~2.14   \n",
       "24  14   마포                                      서강대역사 광장  12.16~2.14   \n",
       "25  15   양천                                     양천구의회 주차장  12.14~2.14   \n",
       "26  15   양천                                      신월문화체육센터  12.23~2.14   \n",
       "27  16   강서                마곡 8구역 공영주차장(마곡동 728-43, 워킹스루)   1.18~2.14   \n",
       "28  16   강서  김포공항 국내선주차장(국내선청사 4번게이트 맞은편)※ 차량 이용시 주차요금 발생  12.25~2.14   \n",
       "29  17   구로                            신도림역(4번출구)※ 일요일 휴무  12.15~2.14   \n",
       "30  17   구로                            오류동역(3번출구)※ 토요일 휴무  12.15~2.14   \n",
       "31  18   금천                                    필승아파트 단지 내  12.15~2.14   \n",
       "32  19  영등포                                  도림동 배드민턴 체육관  12.15~2.14   \n",
       "33  19  영등포                         한강 여의도 3주차장 (서강대교 하부)  12.15~2.14   \n",
       "34  20   동작                                  사당문화회관(사당권역)  12.14~2.14   \n",
       "35  20   동작                                 구민체육센터(신대방권역)  12.14~2.14   \n",
       "36  21   관악                                    관악구민종합체육센터  12.15~2.14   \n",
       "37  21   관악                                        신림체육센터  12.14~2.14   \n",
       "38  22   서초                                      강남역 9번출구  12.15~2.14   \n",
       "39  22   서초                                   고속터미널역 1번출구  12.15~2.14   \n",
       "40  22   서초                                    사당역 14번 출구  12.15~2.14   \n",
       "41  22   서초                              양재 근린공원(양재동 311)   1.18~2.14   \n",
       "42  22   서초                                 서초종합체육관(드라이브)  12.22~2.14   \n",
       "43  22   서초                             서리풀문화광장 (명달로 148)  12.23~2.14   \n",
       "44  23   강남                                  삼성역6번출구(코엑스)  12.16~2.14   \n",
       "45  23   강남                        개포동역 8번출구(개포디지털혁신파크 내)  12.16~2.14   \n",
       "46  23   강남                          압구정공영주차장(압구정동 428번지)    1.4~2.14   \n",
       "47  23   강남                            세곡동방죽공원(율현동 254-3)    1.4~2.14   \n",
       "48  24   송파                                 올림픽공원 평화의문 광장  12.15~2.14   \n",
       "49  24   송파                                  송파체육문화회관 주차장  12.15~2.14   \n",
       "50  25   강동                                 암사동 선사주거지 주차장  12.14~2.14   \n",
       "51  25   강동                                     온조대왕문화체육관  12.14~2.14   \n",
       "\n",
       "                                                 운영시간                  비고  \n",
       "0                평일(월~금) 10:00~17:00\\n토요일 09:00~13:00        평일 소독시간12~14  \n",
       "1                평일(월~금) 10:00~17:00\\n토요일 09:00~13:00        평일 소독시간12~14  \n",
       "2   평일(월~금) 09:00~17:00\\n토요일 09:00~13:00\\n일요일 09:0...  평일 소독시간12:30~13:30  \n",
       "3   평일(월~금) 09:00~17:00\\n토요일 09:00~13:00\\n일요일 09:0...  평일 소독시간12:30~13:30  \n",
       "4   평일(월~금) 09:00~17:00\\n토요일 09:00~13:00\\n일요일 09:0...  평일 소독시간12:30~13:30  \n",
       "5   평일(월~금) 09:00~17:00\\n토요일 09:00~13:00\\n일요일 09:0...        평일 소독시간12~13  \n",
       "6   평일(월~금) 09:00~17:00\\n토요일 09:00~13:00\\n일요일 09:0...        평일 소독시간12~13  \n",
       "7                    평일(월~금) 09:00~17:00\\n※ 주말·공휴일 휴무                      \n",
       "8                    평일(월~금) 09:00~17:00\\n※ 주말·공휴일 휴무                      \n",
       "9   평일(월~금) 09:00~17:00\\n토요일 12:00~16:00\\n일요일 12:0...        평일 소독시간13~14  \n",
       "10  평일(월~금) 09:00~17:00\\n토요일 12:00~16:00\\n일요일 12:0...        평일 소독시간13~14  \n",
       "11  평일(월~금) 09:00~17:00\\n토요일 12:00~16:00\\n일요일 12:0...                      \n",
       "12  평일(월~금) 09:00~17:00\\n토요일 09:00~13:00\\n일요일 09:0...     소독시간12:30~13:30  \n",
       "13  평일(월~금) 09:00~17:00\\n토요일 09:00~13:00\\n일요일 09:0...     소독시간12:30~13:30  \n",
       "14  평일(월~금) 09:00~18:00\\n토요일 10:00~15:00\\n일요일 10:0...                      \n",
       "15  평일(월~금) 09:00~18:00\\n토요일 10:00~15:00\\n일요일 10:0...                      \n",
       "16  평일(월~금) 09:00~17:00\\n토요일 09:00~13:00\\n일요일 09:0...        평일 소독시간12~13  \n",
       "17  평일(월~금) 10:00~17:00\\n토요일 10:00~13:00\\n일요일 10:0...        평일 소독시간12~13  \n",
       "18  평일(월~금) 10:00~17:00\\n토요일 10:00~13:00\\n일요일 10:0...        평일 소독시간12~13  \n",
       "19  평일(월~금) 09:00~17:00\\n토요일 12:00~16:00\\n일요일 12:0...        평일 소독시간12~13  \n",
       "20               평일(월~금) 09:00~17:00\\n토요일 09:00~13:00           소독시간12~14  \n",
       "21               평일(월~금) 09:00~17:00\\n토요일 09:00~13:00           소독시간12~14  \n",
       "22  평일(월~금) 10:00~17:00\\n토요일 12:00~16:00\\n일요일 12:0...        평일 소독시간13~14  \n",
       "23  평일(월~금) 10:00~17:00\\n토요일 12:00~16:00\\n일요일 12:0...        평일 소독시간13~14  \n",
       "24                 평일(월~금) 09:00~17:00\\n토 09:00~13:00        평일 소독시간13~14  \n",
       "25                 평일(월~금) 09:00~17:00\\n토 09:00~13:00        평일 소독시간12~13  \n",
       "26                 평일(월~금) 09:00~17:00\\n토 09:00~13:00        평일 소독시간12~13  \n",
       "27  평일(월~금) 10:00~17:00\\n토요일 10:00~14:00\\n일요일 10:0...        평일 소독시간13~14  \n",
       "28  평일(월~금) 10:00~17:00\\n토요일 10:00~14:00\\n일요일 10:0...        평일 소독시간13~14  \n",
       "29  평일(월~금) 09:00~16:00\\n토요일 09:00~13:00\\n일요일 09:0...        평일 소독시간12~13  \n",
       "30  평일(월~금) 09:00~16:00\\n토요일 09:00~13:00\\n일요일 09:0...        평일 소독시간12~13  \n",
       "31                 평일(월~금) 10:00~17:00\\n토 10:00~15:00           소독시간12~13  \n",
       "32                 평일(월~금) 09:00~17:00\\n토 09:00~13:00        평일 소독시간12~13  \n",
       "33                 평일(월~금) 09:00~17:00\\n토 09:00~13:00        평일 소독시간12~13  \n",
       "34                 평일(월~금) 10:00~17:00\\n토 10:00~14:00                      \n",
       "35                 평일(월~금) 10:00~17:00\\n토 10:00~14:00                      \n",
       "36               평일(월~금) 10:00~17:00\\n토요일 10:00~15:00           소독시간12~13  \n",
       "37               평일(월~금) 10:00~17:00\\n토요일 10:00~15:00           소독시간12~13  \n",
       "38  평일(월~금) 09:00~17:00\\n토요일 12:00~16:00\\n일요일 12:0...        평일 소독시간12~13  \n",
       "39  평일(월~금) 09:00~17:00\\n토요일 12:00~16:00\\n일요일 12:0...        평일 소독시간12~13  \n",
       "40  평일(월~금) 09:00~17:00\\n토요일 12:00~16:00\\n일요일 12:0...        평일 소독시간12~13  \n",
       "41  평일(월~금) 09:00~17:00\\n토요일 12:00~16:00\\n일요일 12:0...        평일 소독시간12~13  \n",
       "42  평일(월~금) 09:00~17:00\\n토요일 12:00~16:00\\n일요일 12:0...        평일 소독시간12~13  \n",
       "43  평일(월~금) 09:00~17:00\\n토요일 12:00~16:00\\n일요일 12:0...        평일 소독시간12~13  \n",
       "44  평일(월~금) 09:00~17:00\\n토요일 09:00~13:00\\n일요일 09:0...        평일 소독시간12~13  \n",
       "45  평일(월~금) 09:00~17:00\\n토요일 09:00~13:00\\n일요일 09:0...        평일 소독시간12~13  \n",
       "46  평일(월~금) 09:00~17:00\\n토요일 09:00~13:00\\n일요일 09:0...        평일 소독시간12~13  \n",
       "47  평일(월~금) 09:00~17:00\\n토요일 09:00~13:00\\n일요일 09:0...        평일 소독시간12~13  \n",
       "48               평일(월~금) 10:00~17:00\\n토요일 10:00~15:00           소독시간12~13  \n",
       "49               평일(월~금) 10:00~17:00\\n토요일 10:00~15:00           소독시간12~13  \n",
       "50  평일(월~금) 09:00~17:00\\n토요일 09:00~13:00\\n일요일 09:0...        평일 소독시간12~13  \n",
       "51  평일(월~금) 09:00~17:00\\n토요일 09:00~13:00\\n일요일 09:0...        평일 소독시간12~13  "
      ],
      "text/html": "<div>\n<style scoped>\n    .dataframe tbody tr th:only-of-type {\n        vertical-align: middle;\n    }\n\n    .dataframe tbody tr th {\n        vertical-align: top;\n    }\n\n    .dataframe thead th {\n        text-align: right;\n    }\n</style>\n<table border=\"1\" class=\"dataframe\">\n  <thead>\n    <tr style=\"text-align: right;\">\n      <th></th>\n      <th>연번</th>\n      <th>자치구</th>\n      <th>장 소</th>\n      <th>개소일시</th>\n      <th>운영시간</th>\n      <th>비고</th>\n    </tr>\n  </thead>\n  <tbody>\n    <tr>\n      <th>0</th>\n      <td>1</td>\n      <td>종로</td>\n      <td>탑골공원 앞</td>\n      <td>12.14~2.14</td>\n      <td>평일(월~금) 10:00~17:00\\n토요일 09:00~13:00</td>\n      <td>평일 소독시간12~14</td>\n    </tr>\n    <tr>\n      <th>1</th>\n      <td>1</td>\n      <td>종로</td>\n      <td>종로구민회관 후문</td>\n      <td>12.16~2.14</td>\n      <td>평일(월~금) 10:00~17:00\\n토요일 09:00~13:00</td>\n      <td>평일 소독시간12~14</td>\n    </tr>\n    <tr>\n      <th>2</th>\n      <td>2</td>\n      <td>중구</td>\n      <td>서울역 광장</td>\n      <td>12.14~2.14</td>\n      <td>평일(월~금) 09:00~17:00\\n토요일 09:00~13:00\\n일요일 09:0...</td>\n      <td>평일 소독시간12:30~13:30</td>\n    </tr>\n    <tr>\n      <th>3</th>\n      <td>2</td>\n      <td>중구</td>\n      <td>약수동 주민센터 앞</td>\n      <td>12.15~2.14</td>\n      <td>평일(월~금) 09:00~17:00\\n토요일 09:00~13:00\\n일요일 09:0...</td>\n      <td>평일 소독시간12:30~13:30</td>\n    </tr>\n    <tr>\n      <th>4</th>\n      <td>2</td>\n      <td>중구</td>\n      <td>서울광장※ 주말 휴무</td>\n      <td>12.17~2.14</td>\n      <td>평일(월~금) 09:00~17:00\\n토요일 09:00~13:00\\n일요일 09:0...</td>\n      <td>평일 소독시간12:30~13:30</td>\n    </tr>\n    <tr>\n      <th>5</th>\n      <td>3</td>\n      <td>용산</td>\n      <td>용산역 전면광장</td>\n      <td>12.14~2.14</td>\n      <td>평일(월~금) 09:00~17:00\\n토요일 09:00~13:00\\n일요일 09:0...</td>\n      <td>평일 소독시간12~13</td>\n    </tr>\n    <tr>\n      <th>6</th>\n      <td>3</td>\n      <td>용산</td>\n      <td>한남동공영주차장</td>\n      <td>12.14~2.14</td>\n      <td>평일(월~금) 09:00~17:00\\n토요일 09:00~13:00\\n일요일 09:0...</td>\n      <td>평일 소독시간12~13</td>\n    </tr>\n    <tr>\n      <th>7</th>\n      <td>4</td>\n      <td>성동</td>\n      <td>성동구청(농구장)</td>\n      <td>12.16~2.14</td>\n      <td>평일(월~금) 09:00~17:00\\n※ 주말·공휴일 휴무</td>\n      <td></td>\n    </tr>\n    <tr>\n      <th>8</th>\n      <td>4</td>\n      <td>성동</td>\n      <td>성수구두테마공원(성수역 4번출구 200m)</td>\n      <td>12.16~2.10</td>\n      <td>평일(월~금) 09:00~17:00\\n※ 주말·공휴일 휴무</td>\n      <td></td>\n    </tr>\n    <tr>\n      <th>9</th>\n      <td>5</td>\n      <td>광진</td>\n      <td>중곡보건지소</td>\n      <td>12.15~2.14</td>\n      <td>평일(월~금) 09:00~17:00\\n토요일 12:00~16:00\\n일요일 12:0...</td>\n      <td>평일 소독시간13~14</td>\n    </tr>\n    <tr>\n      <th>10</th>\n      <td>5</td>\n      <td>광진</td>\n      <td>자양보건지소</td>\n      <td>12.15~2.14</td>\n      <td>평일(월~금) 09:00~17:00\\n토요일 12:00~16:00\\n일요일 12:0...</td>\n      <td>평일 소독시간13~14</td>\n    </tr>\n    <tr>\n      <th>11</th>\n      <td>6</td>\n      <td>동대문</td>\n      <td>청량리역 광장</td>\n      <td>12.17~2.14</td>\n      <td>평일(월~금) 09:00~17:00\\n토요일 12:00~16:00\\n일요일 12:0...</td>\n      <td></td>\n    </tr>\n    <tr>\n      <th>12</th>\n      <td>7</td>\n      <td>중랑</td>\n      <td>면목역 광장(3번출구)</td>\n      <td>12.14~2.14</td>\n      <td>평일(월~금) 09:00~17:00\\n토요일 09:00~13:00\\n일요일 09:0...</td>\n      <td>소독시간12:30~13:30</td>\n    </tr>\n    <tr>\n      <th>13</th>\n      <td>7</td>\n      <td>중랑</td>\n      <td>망우역 공원(1번출구)</td>\n      <td>12.14~2.14</td>\n      <td>평일(월~금) 09:00~17:00\\n토요일 09:00~13:00\\n일요일 09:0...</td>\n      <td>소독시간12:30~13:30</td>\n    </tr>\n    <tr>\n      <th>14</th>\n      <td>8</td>\n      <td>성북</td>\n      <td>성북구청 바람마당</td>\n      <td>12.15~2.14</td>\n      <td>평일(월~금) 09:00~18:00\\n토요일 10:00~15:00\\n일요일 10:0...</td>\n      <td></td>\n    </tr>\n    <tr>\n      <th>15</th>\n      <td>8</td>\n      <td>성북</td>\n      <td>민방위교육장 주차장(화랑로 376)</td>\n      <td>12.21~2.14</td>\n      <td>평일(월~금) 09:00~18:00\\n토요일 10:00~15:00\\n일요일 10:0...</td>\n      <td></td>\n    </tr>\n    <tr>\n      <th>16</th>\n      <td>9</td>\n      <td>강북</td>\n      <td>강북구민운동장</td>\n      <td>12.17~2.14</td>\n      <td>평일(월~금) 09:00~17:00\\n토요일 09:00~13:00\\n일요일 09:0...</td>\n      <td>평일 소독시간12~13</td>\n    </tr>\n    <tr>\n      <th>17</th>\n      <td>10</td>\n      <td>도봉</td>\n      <td>창동역(1번출구)</td>\n      <td>12.14~2.07</td>\n      <td>평일(월~금) 10:00~17:00\\n토요일 10:00~13:00\\n일요일 10:0...</td>\n      <td>평일 소독시간12~13</td>\n    </tr>\n    <tr>\n      <th>18</th>\n      <td>10</td>\n      <td>도봉</td>\n      <td>도봉구청 광장</td>\n      <td>12,18~2.14</td>\n      <td>평일(월~금) 10:00~17:00\\n토요일 10:00~13:00\\n일요일 10:0...</td>\n      <td>평일 소독시간12~13</td>\n    </tr>\n    <tr>\n      <th>19</th>\n      <td>11</td>\n      <td>노원</td>\n      <td>노원구청 주차장</td>\n      <td>12.15~2.14</td>\n      <td>평일(월~금) 09:00~17:00\\n토요일 12:00~16:00\\n일요일 12:0...</td>\n      <td>평일 소독시간12~13</td>\n    </tr>\n    <tr>\n      <th>20</th>\n      <td>12</td>\n      <td>은평</td>\n      <td>구파발역</td>\n      <td>12.16~2.14</td>\n      <td>평일(월~금) 09:00~17:00\\n토요일 09:00~13:00</td>\n      <td>소독시간12~14</td>\n    </tr>\n    <tr>\n      <th>21</th>\n      <td>12</td>\n      <td>은평</td>\n      <td>불광천(증산로 414)</td>\n      <td>12.16~2.14</td>\n      <td>평일(월~금) 09:00~17:00\\n토요일 09:00~13:00</td>\n      <td>소독시간12~14</td>\n    </tr>\n    <tr>\n      <th>22</th>\n      <td>13</td>\n      <td>서대문</td>\n      <td>홍제견인차량보관소※ 토요일 휴무</td>\n      <td>12.15~2.14</td>\n      <td>평일(월~금) 10:00~17:00\\n토요일 12:00~16:00\\n일요일 12:0...</td>\n      <td>평일 소독시간13~14</td>\n    </tr>\n    <tr>\n      <th>23</th>\n      <td>13</td>\n      <td>서대문</td>\n      <td>신촌기차역 공영주차장※ 일요일 휴무</td>\n      <td>12.15~2.14</td>\n      <td>평일(월~금) 10:00~17:00\\n토요일 12:00~16:00\\n일요일 12:0...</td>\n      <td>평일 소독시간13~14</td>\n    </tr>\n    <tr>\n      <th>24</th>\n      <td>14</td>\n      <td>마포</td>\n      <td>서강대역사 광장</td>\n      <td>12.16~2.14</td>\n      <td>평일(월~금) 09:00~17:00\\n토 09:00~13:00</td>\n      <td>평일 소독시간13~14</td>\n    </tr>\n    <tr>\n      <th>25</th>\n      <td>15</td>\n      <td>양천</td>\n      <td>양천구의회 주차장</td>\n      <td>12.14~2.14</td>\n      <td>평일(월~금) 09:00~17:00\\n토 09:00~13:00</td>\n      <td>평일 소독시간12~13</td>\n    </tr>\n    <tr>\n      <th>26</th>\n      <td>15</td>\n      <td>양천</td>\n      <td>신월문화체육센터</td>\n      <td>12.23~2.14</td>\n      <td>평일(월~금) 09:00~17:00\\n토 09:00~13:00</td>\n      <td>평일 소독시간12~13</td>\n    </tr>\n    <tr>\n      <th>27</th>\n      <td>16</td>\n      <td>강서</td>\n      <td>마곡 8구역 공영주차장(마곡동 728-43, 워킹스루)</td>\n      <td>1.18~2.14</td>\n      <td>평일(월~금) 10:00~17:00\\n토요일 10:00~14:00\\n일요일 10:0...</td>\n      <td>평일 소독시간13~14</td>\n    </tr>\n    <tr>\n      <th>28</th>\n      <td>16</td>\n      <td>강서</td>\n      <td>김포공항 국내선주차장(국내선청사 4번게이트 맞은편)※ 차량 이용시 주차요금 발생</td>\n      <td>12.25~2.14</td>\n      <td>평일(월~금) 10:00~17:00\\n토요일 10:00~14:00\\n일요일 10:0...</td>\n      <td>평일 소독시간13~14</td>\n    </tr>\n    <tr>\n      <th>29</th>\n      <td>17</td>\n      <td>구로</td>\n      <td>신도림역(4번출구)※ 일요일 휴무</td>\n      <td>12.15~2.14</td>\n      <td>평일(월~금) 09:00~16:00\\n토요일 09:00~13:00\\n일요일 09:0...</td>\n      <td>평일 소독시간12~13</td>\n    </tr>\n    <tr>\n      <th>30</th>\n      <td>17</td>\n      <td>구로</td>\n      <td>오류동역(3번출구)※ 토요일 휴무</td>\n      <td>12.15~2.14</td>\n      <td>평일(월~금) 09:00~16:00\\n토요일 09:00~13:00\\n일요일 09:0...</td>\n      <td>평일 소독시간12~13</td>\n    </tr>\n    <tr>\n      <th>31</th>\n      <td>18</td>\n      <td>금천</td>\n      <td>필승아파트 단지 내</td>\n      <td>12.15~2.14</td>\n      <td>평일(월~금) 10:00~17:00\\n토 10:00~15:00</td>\n      <td>소독시간12~13</td>\n    </tr>\n    <tr>\n      <th>32</th>\n      <td>19</td>\n      <td>영등포</td>\n      <td>도림동 배드민턴 체육관</td>\n      <td>12.15~2.14</td>\n      <td>평일(월~금) 09:00~17:00\\n토 09:00~13:00</td>\n      <td>평일 소독시간12~13</td>\n    </tr>\n    <tr>\n      <th>33</th>\n      <td>19</td>\n      <td>영등포</td>\n      <td>한강 여의도 3주차장 (서강대교 하부)</td>\n      <td>12.15~2.14</td>\n      <td>평일(월~금) 09:00~17:00\\n토 09:00~13:00</td>\n      <td>평일 소독시간12~13</td>\n    </tr>\n    <tr>\n      <th>34</th>\n      <td>20</td>\n      <td>동작</td>\n      <td>사당문화회관(사당권역)</td>\n      <td>12.14~2.14</td>\n      <td>평일(월~금) 10:00~17:00\\n토 10:00~14:00</td>\n      <td></td>\n    </tr>\n    <tr>\n      <th>35</th>\n      <td>20</td>\n      <td>동작</td>\n      <td>구민체육센터(신대방권역)</td>\n      <td>12.14~2.14</td>\n      <td>평일(월~금) 10:00~17:00\\n토 10:00~14:00</td>\n      <td></td>\n    </tr>\n    <tr>\n      <th>36</th>\n      <td>21</td>\n      <td>관악</td>\n      <td>관악구민종합체육센터</td>\n      <td>12.15~2.14</td>\n      <td>평일(월~금) 10:00~17:00\\n토요일 10:00~15:00</td>\n      <td>소독시간12~13</td>\n    </tr>\n    <tr>\n      <th>37</th>\n      <td>21</td>\n      <td>관악</td>\n      <td>신림체육센터</td>\n      <td>12.14~2.14</td>\n      <td>평일(월~금) 10:00~17:00\\n토요일 10:00~15:00</td>\n      <td>소독시간12~13</td>\n    </tr>\n    <tr>\n      <th>38</th>\n      <td>22</td>\n      <td>서초</td>\n      <td>강남역 9번출구</td>\n      <td>12.15~2.14</td>\n      <td>평일(월~금) 09:00~17:00\\n토요일 12:00~16:00\\n일요일 12:0...</td>\n      <td>평일 소독시간12~13</td>\n    </tr>\n    <tr>\n      <th>39</th>\n      <td>22</td>\n      <td>서초</td>\n      <td>고속터미널역 1번출구</td>\n      <td>12.15~2.14</td>\n      <td>평일(월~금) 09:00~17:00\\n토요일 12:00~16:00\\n일요일 12:0...</td>\n      <td>평일 소독시간12~13</td>\n    </tr>\n    <tr>\n      <th>40</th>\n      <td>22</td>\n      <td>서초</td>\n      <td>사당역 14번 출구</td>\n      <td>12.15~2.14</td>\n      <td>평일(월~금) 09:00~17:00\\n토요일 12:00~16:00\\n일요일 12:0...</td>\n      <td>평일 소독시간12~13</td>\n    </tr>\n    <tr>\n      <th>41</th>\n      <td>22</td>\n      <td>서초</td>\n      <td>양재 근린공원(양재동 311)</td>\n      <td>1.18~2.14</td>\n      <td>평일(월~금) 09:00~17:00\\n토요일 12:00~16:00\\n일요일 12:0...</td>\n      <td>평일 소독시간12~13</td>\n    </tr>\n    <tr>\n      <th>42</th>\n      <td>22</td>\n      <td>서초</td>\n      <td>서초종합체육관(드라이브)</td>\n      <td>12.22~2.14</td>\n      <td>평일(월~금) 09:00~17:00\\n토요일 12:00~16:00\\n일요일 12:0...</td>\n      <td>평일 소독시간12~13</td>\n    </tr>\n    <tr>\n      <th>43</th>\n      <td>22</td>\n      <td>서초</td>\n      <td>서리풀문화광장 (명달로 148)</td>\n      <td>12.23~2.14</td>\n      <td>평일(월~금) 09:00~17:00\\n토요일 12:00~16:00\\n일요일 12:0...</td>\n      <td>평일 소독시간12~13</td>\n    </tr>\n    <tr>\n      <th>44</th>\n      <td>23</td>\n      <td>강남</td>\n      <td>삼성역6번출구(코엑스)</td>\n      <td>12.16~2.14</td>\n      <td>평일(월~금) 09:00~17:00\\n토요일 09:00~13:00\\n일요일 09:0...</td>\n      <td>평일 소독시간12~13</td>\n    </tr>\n    <tr>\n      <th>45</th>\n      <td>23</td>\n      <td>강남</td>\n      <td>개포동역 8번출구(개포디지털혁신파크 내)</td>\n      <td>12.16~2.14</td>\n      <td>평일(월~금) 09:00~17:00\\n토요일 09:00~13:00\\n일요일 09:0...</td>\n      <td>평일 소독시간12~13</td>\n    </tr>\n    <tr>\n      <th>46</th>\n      <td>23</td>\n      <td>강남</td>\n      <td>압구정공영주차장(압구정동 428번지)</td>\n      <td>1.4~2.14</td>\n      <td>평일(월~금) 09:00~17:00\\n토요일 09:00~13:00\\n일요일 09:0...</td>\n      <td>평일 소독시간12~13</td>\n    </tr>\n    <tr>\n      <th>47</th>\n      <td>23</td>\n      <td>강남</td>\n      <td>세곡동방죽공원(율현동 254-3)</td>\n      <td>1.4~2.14</td>\n      <td>평일(월~금) 09:00~17:00\\n토요일 09:00~13:00\\n일요일 09:0...</td>\n      <td>평일 소독시간12~13</td>\n    </tr>\n    <tr>\n      <th>48</th>\n      <td>24</td>\n      <td>송파</td>\n      <td>올림픽공원 평화의문 광장</td>\n      <td>12.15~2.14</td>\n      <td>평일(월~금) 10:00~17:00\\n토요일 10:00~15:00</td>\n      <td>소독시간12~13</td>\n    </tr>\n    <tr>\n      <th>49</th>\n      <td>24</td>\n      <td>송파</td>\n      <td>송파체육문화회관 주차장</td>\n      <td>12.15~2.14</td>\n      <td>평일(월~금) 10:00~17:00\\n토요일 10:00~15:00</td>\n      <td>소독시간12~13</td>\n    </tr>\n    <tr>\n      <th>50</th>\n      <td>25</td>\n      <td>강동</td>\n      <td>암사동 선사주거지 주차장</td>\n      <td>12.14~2.14</td>\n      <td>평일(월~금) 09:00~17:00\\n토요일 09:00~13:00\\n일요일 09:0...</td>\n      <td>평일 소독시간12~13</td>\n    </tr>\n    <tr>\n      <th>51</th>\n      <td>25</td>\n      <td>강동</td>\n      <td>온조대왕문화체육관</td>\n      <td>12.14~2.14</td>\n      <td>평일(월~금) 09:00~17:00\\n토요일 09:00~13:00\\n일요일 09:0...</td>\n      <td>평일 소독시간12~13</td>\n    </tr>\n  </tbody>\n</table>\n</div>"
     },
     "metadata": {},
     "execution_count": 320
    }
   ],
   "source": [
    "del df['개소']\n",
    "df.head(52)"
   ]
  },
  {
   "source": [
    "참조 사이트 : https://www.codegrepper.com/code-examples/python/python+get+html+from+url <- url을 utf8로 decoding\n",
    "\n",
    "https://srome.github.io/Parsing-HTML-Tables-in-Python-with-BeautifulSoup-and-pandas/"
   ],
   "cell_type": "markdown",
   "metadata": {}
  }
 ]
}