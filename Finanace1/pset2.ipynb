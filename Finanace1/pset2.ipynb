{
 "cells": [
  {
   "cell_type": "markdown",
   "metadata": {},
   "source": [
    "# Import Modules"
   ]
  },
  {
   "cell_type": "code",
   "execution_count": 57,
   "metadata": {},
   "outputs": [],
   "source": [
    "import matplotlib.pyplot as plt\n",
    "import matplotlib.font_manager as fm\n",
    "import numpy as np\n",
    "import pandas as pd\n",
    "import math"
   ]
  },
  {
   "cell_type": "markdown",
   "metadata": {},
   "source": [
    "# Pset 13 on page 41\n",
    "## Define paramters as np array"
   ]
  },
  {
   "cell_type": "code",
   "execution_count": 5,
   "metadata": {},
   "outputs": [],
   "source": [
    "cashFlow = np.array([50,57,75,80,85,92,92,80,68,50])"
   ]
  },
  {
   "cell_type": "code",
   "execution_count": 12,
   "metadata": {},
   "outputs": [
    {
     "data": {
      "text/plain": [
       "array([1.        , 0.5       , 0.33333333, 0.25      , 0.2       ,\n",
       "       0.16666667, 0.14285714, 0.125     , 0.11111111, 0.1       ])"
      ]
     },
     "execution_count": 12,
     "metadata": {},
     "output_type": "execute_result"
    }
   ],
   "source": [
    "intRate = np.repeat(1.12,len(cashFlow))\n",
    "yearArr = np.arange(1,len(cashFlow)+1)\n",
    "ones = np.ones(len(cashFlow))\n",
    "np.divide(ones,yearArr)"
   ]
  },
  {
   "cell_type": "markdown",
   "metadata": {},
   "source": [
    "## Calc DF"
   ]
  },
  {
   "cell_type": "code",
   "execution_count": 18,
   "metadata": {},
   "outputs": [],
   "source": [
    "DFArr = np.divide(1,np.power(intRate,yearArr))\n"
   ]
  },
  {
   "cell_type": "markdown",
   "metadata": {},
   "source": [
    "## Multiply Discount Factor and get Sum"
   ]
  },
  {
   "cell_type": "code",
   "execution_count": 21,
   "metadata": {},
   "outputs": [],
   "source": [
    "pset1 = np.sum(np.multiply(cashFlow,DFArr))*1000-380000"
   ]
  },
  {
   "cell_type": "markdown",
   "metadata": {},
   "source": [
    "# 17. Perpetuities*\n",
    " An investment costs $1,548 and pays $138 in perpetuity. If the interest rate is 9%, what is the NPV?"
   ]
  },
  {
   "cell_type": "code",
   "execution_count": 23,
   "metadata": {},
   "outputs": [],
   "source": [
    "r = 0.09\n",
    "c = 138\n",
    "c0 = -1548\n",
    "pv = c0+c/r\n",
    "pset2 = pv"
   ]
  },
  {
   "cell_type": "markdown",
   "metadata": {},
   "source": [
    "# 21. Discount factors and annuity factors*"
   ]
  },
  {
   "cell_type": "markdown",
   "metadata": {},
   "source": [
    "## a. If the one-year discount factor is .905, what is the one-year interest rate?"
   ]
  },
  {
   "cell_type": "code",
   "execution_count": 4,
   "metadata": {},
   "outputs": [],
   "source": [
    "DF = 0.905\n",
    "r_a = 1/DF - 1"
   ]
  },
  {
   "cell_type": "markdown",
   "metadata": {},
   "source": [
    "## b. If the two-year interest rate is 10.5%, what is the two-year discount factor?"
   ]
  },
  {
   "cell_type": "code",
   "execution_count": 5,
   "metadata": {},
   "outputs": [],
   "source": [
    "DF_b = 1/(pow(1.105,2))"
   ]
  },
  {
   "cell_type": "markdown",
   "metadata": {},
   "source": [
    "## c. Given these one- and two-year discount factors, calculate the two-year annuity factor."
   ]
  },
  {
   "cell_type": "code",
   "execution_count": 6,
   "metadata": {},
   "outputs": [],
   "source": [
    "two_annuity_factor = 0.905 + DF_b "
   ]
  },
  {
   "cell_type": "markdown",
   "metadata": {},
   "source": [
    "## d. If the PV of $10 a year for three years is $24.65, what is the three-year annuity factor?"
   ]
  },
  {
   "cell_type": "code",
   "execution_count": 7,
   "metadata": {},
   "outputs": [],
   "source": [
    "annuity_three = 24.65/10"
   ]
  },
  {
   "cell_type": "markdown",
   "metadata": {},
   "source": [
    "## e. From your answers to parts (c) and (d), calculate the three-year discount factor.\n"
   ]
  },
  {
   "cell_type": "code",
   "execution_count": 9,
   "metadata": {},
   "outputs": [],
   "source": [
    "three_year_DF = annuity_three - two_annuity_factor"
   ]
  },
  {
   "cell_type": "markdown",
   "metadata": {},
   "source": [
    "# 22. Annuities*\n",
    "Kangaroo Autos is offering free credit on a new $10,000 car. You pay $1,000\n",
    "down and then $300 a month for the next 30 months. Turtle Motors next door does not offer\n",
    "free credit but will give you $1,000 off the list price. If the rate of interest is .83% a month,\n",
    "which company is offering the better deal?"
   ]
  },
  {
   "cell_type": "code",
   "execution_count": 31,
   "metadata": {},
   "outputs": [
    {
     "name": "stdout",
     "output_type": "stream",
     "text": [
      "Present value of kangaroo is $8938.02 and Present value of Turtle is $9000\n",
      "Kangaroo is better choice\n"
     ]
    }
   ],
   "source": [
    "r = 0.0083\n",
    "PV_kang = 1000 + 300/r*(1 - 1/pow(1+r,30))\n",
    "PV_kang = round(PV_kang,2)\n",
    "PV_turtle = 10000 - 1000\n",
    "result = \"Kangaroo\" if PV_kang < PV_turtle else \"Turtle\"\n",
    "print(\"Present value of kangaroo is $%s and Present value of Turtle is $%s\" %(PV_kang,PV_turtle))\n",
    "print(\"%s is better choice\"%result)"
   ]
  },
  {
   "cell_type": "markdown",
   "metadata": {},
   "source": [
    "# 31. Amortizing loans*\n",
    "A bank loan requires you to pay $70,000 at the end of each of the next\n",
    "eight years. The interest rate is 8%."
   ]
  },
  {
   "cell_type": "markdown",
   "metadata": {},
   "source": [
    "## a. What is the present value of these payments?"
   ]
  },
  {
   "cell_type": "code",
   "execution_count": 33,
   "metadata": {},
   "outputs": [
    {
     "data": {
      "text/plain": [
       "402264.7260607712"
      ]
     },
     "execution_count": 33,
     "metadata": {},
     "output_type": "execute_result"
    }
   ],
   "source": [
    "PV = 70000*(1/0.08-1/(0.08*(pow(1.08,8))))\n",
    "PV"
   ]
  },
  {
   "cell_type": "markdown",
   "metadata": {},
   "source": [
    "## b. Calculate for each year the loan balance that remains outstanding, the interest payment on the loan, and the reduction in the loan balance."
   ]
  },
  {
   "cell_type": "code",
   "execution_count": 56,
   "metadata": {},
   "outputs": [
    {
     "data": {
      "text/html": [
       "<div>\n",
       "<style scoped>\n",
       "    .dataframe tbody tr th:only-of-type {\n",
       "        vertical-align: middle;\n",
       "    }\n",
       "\n",
       "    .dataframe tbody tr th {\n",
       "        vertical-align: top;\n",
       "    }\n",
       "\n",
       "    .dataframe thead th {\n",
       "        text-align: right;\n",
       "    }\n",
       "</style>\n",
       "<table border=\"1\" class=\"dataframe\">\n",
       "  <thead>\n",
       "    <tr style=\"text-align: right;\">\n",
       "      <th></th>\n",
       "      <th>Year</th>\n",
       "      <th>Begging Year Balance</th>\n",
       "      <th>Total Year-end Payment</th>\n",
       "      <th>Interest</th>\n",
       "      <th>Amortization</th>\n",
       "      <th>End of Year Balance</th>\n",
       "    </tr>\n",
       "  </thead>\n",
       "  <tbody>\n",
       "    <tr>\n",
       "      <th>0</th>\n",
       "      <td>1</td>\n",
       "      <td>402.265</td>\n",
       "      <td>70</td>\n",
       "      <td>32.18</td>\n",
       "      <td>37.82</td>\n",
       "      <td>364.44</td>\n",
       "    </tr>\n",
       "    <tr>\n",
       "      <th>1</th>\n",
       "      <td>2</td>\n",
       "      <td>364.440</td>\n",
       "      <td>70</td>\n",
       "      <td>29.16</td>\n",
       "      <td>40.84</td>\n",
       "      <td>323.60</td>\n",
       "    </tr>\n",
       "    <tr>\n",
       "      <th>2</th>\n",
       "      <td>3</td>\n",
       "      <td>323.600</td>\n",
       "      <td>70</td>\n",
       "      <td>25.89</td>\n",
       "      <td>44.11</td>\n",
       "      <td>279.49</td>\n",
       "    </tr>\n",
       "    <tr>\n",
       "      <th>3</th>\n",
       "      <td>4</td>\n",
       "      <td>279.490</td>\n",
       "      <td>70</td>\n",
       "      <td>22.36</td>\n",
       "      <td>47.64</td>\n",
       "      <td>231.85</td>\n",
       "    </tr>\n",
       "    <tr>\n",
       "      <th>4</th>\n",
       "      <td>5</td>\n",
       "      <td>231.850</td>\n",
       "      <td>70</td>\n",
       "      <td>18.55</td>\n",
       "      <td>51.45</td>\n",
       "      <td>180.40</td>\n",
       "    </tr>\n",
       "    <tr>\n",
       "      <th>5</th>\n",
       "      <td>6</td>\n",
       "      <td>180.400</td>\n",
       "      <td>70</td>\n",
       "      <td>14.43</td>\n",
       "      <td>55.57</td>\n",
       "      <td>124.83</td>\n",
       "    </tr>\n",
       "    <tr>\n",
       "      <th>6</th>\n",
       "      <td>7</td>\n",
       "      <td>124.830</td>\n",
       "      <td>70</td>\n",
       "      <td>9.99</td>\n",
       "      <td>60.01</td>\n",
       "      <td>64.82</td>\n",
       "    </tr>\n",
       "    <tr>\n",
       "      <th>7</th>\n",
       "      <td>8</td>\n",
       "      <td>64.820</td>\n",
       "      <td>70</td>\n",
       "      <td>5.19</td>\n",
       "      <td>64.81</td>\n",
       "      <td>0.01</td>\n",
       "    </tr>\n",
       "  </tbody>\n",
       "</table>\n",
       "</div>"
      ],
      "text/plain": [
       "   Year  Begging Year Balance  Total Year-end Payment  Interest  Amortization  \\\n",
       "0     1               402.265                      70     32.18         37.82   \n",
       "1     2               364.440                      70     29.16         40.84   \n",
       "2     3               323.600                      70     25.89         44.11   \n",
       "3     4               279.490                      70     22.36         47.64   \n",
       "4     5               231.850                      70     18.55         51.45   \n",
       "5     6               180.400                      70     14.43         55.57   \n",
       "6     7               124.830                      70      9.99         60.01   \n",
       "7     8                64.820                      70      5.19         64.81   \n",
       "\n",
       "   End of Year Balance  \n",
       "0               364.44  \n",
       "1               323.60  \n",
       "2               279.49  \n",
       "3               231.85  \n",
       "4               180.40  \n",
       "5               124.83  \n",
       "6                64.82  \n",
       "7                 0.01  "
      ]
     },
     "metadata": {},
     "output_type": "display_data"
    }
   ],
   "source": [
    "resultList = [[\"Year\", \"Begging Year Balance\", \"Total Year-end Payment\", \"Interest\", \"Amortization\", \"End of Year Balance\"]]\n",
    "beginBalance = 402.265 \n",
    "for i in range(1,9):   \n",
    "    subResult = []\n",
    "    payment = 70\n",
    "    interest = beginBalance * 0.08\n",
    "    interest = round(interest,2)\n",
    "    amortization = -interest + payment\n",
    "    amortization = round(amortization,2)\n",
    "    endBalance = beginBalance - amortization\n",
    "    endBalance = round(endBalance,2)\n",
    "    resultList.append([i,beginBalance, payment, interest, amortization, endBalance])\n",
    "\n",
    "    beginBalance = endBalance\n",
    "df = pd.DataFrame(resultList[1:],columns=resultList[0])"
   ]
  },
  {
   "cell_type": "markdown",
   "metadata": {},
   "source": [
    "# 39. Compounding intervals* Which would you prefer?\n",
    "Work out the value of each of these investments after 1, 5, and 20 years."
   ]
  },
  {
   "cell_type": "markdown",
   "metadata": {},
   "source": [
    "## a. An investment paying interest of 12% compounded annually."
   ]
  },
  {
   "cell_type": "markdown",
   "metadata": {},
   "source": [
    "## b. An investment paying interest of 11.7% compounded semiannually."
   ]
  },
  {
   "cell_type": "markdown",
   "metadata": {},
   "source": [
    "## c. An investment paying 11.5% compounded continuously."
   ]
  },
  {
   "cell_type": "code",
   "execution_count": 75,
   "metadata": {},
   "outputs": [
    {
     "data": {
      "text/html": [
       "<div>\n",
       "<style scoped>\n",
       "    .dataframe tbody tr th:only-of-type {\n",
       "        vertical-align: middle;\n",
       "    }\n",
       "\n",
       "    .dataframe tbody tr th {\n",
       "        vertical-align: top;\n",
       "    }\n",
       "\n",
       "    .dataframe thead th {\n",
       "        text-align: right;\n",
       "    }\n",
       "</style>\n",
       "<table border=\"1\" class=\"dataframe\">\n",
       "  <thead>\n",
       "    <tr style=\"text-align: right;\">\n",
       "      <th></th>\n",
       "      <th>1 Year</th>\n",
       "      <th>5 Year</th>\n",
       "      <th>20 Year</th>\n",
       "    </tr>\n",
       "  </thead>\n",
       "  <tbody>\n",
       "    <tr>\n",
       "      <th>0</th>\n",
       "      <td>1.120</td>\n",
       "      <td>1.762</td>\n",
       "      <td>9.646</td>\n",
       "    </tr>\n",
       "    <tr>\n",
       "      <th>1</th>\n",
       "      <td>1.120</td>\n",
       "      <td>1.766</td>\n",
       "      <td>9.719</td>\n",
       "    </tr>\n",
       "    <tr>\n",
       "      <th>2</th>\n",
       "      <td>1.122</td>\n",
       "      <td>1.777</td>\n",
       "      <td>9.974</td>\n",
       "    </tr>\n",
       "  </tbody>\n",
       "</table>\n",
       "</div>"
      ],
      "text/plain": [
       "   1 Year  5 Year  20 Year\n",
       "0   1.120   1.762    9.646\n",
       "1   1.120   1.766    9.719\n",
       "2   1.122   1.777    9.974"
      ]
     },
     "execution_count": 75,
     "metadata": {},
     "output_type": "execute_result"
    }
   ],
   "source": [
    "\n",
    "resultList = [[\"1 Year\",\"5 Year\", \"20 Year\"]]\n",
    "a1 = 1.12\n",
    "a2 = pow(1.12,5)\n",
    "a3 = pow(1.12,20)\n",
    "resultList.append([a1,a2,a3])\n",
    "b1 = pow((1+0.117/2),2)\n",
    "b2 = pow(b1,5)\n",
    "b3 = pow(b1,20)\n",
    "resultList.append([b1,b2,b3])\n",
    "c1 = math.exp(0.115)\n",
    "c2 = math.exp(0.115*5)\n",
    "c3 = math.exp(0.115*20)\n",
    "resultList.append([c1,c2,c3])\n",
    "df = pd.DataFrame(resultList[1:],columns=resultList[0])\n",
    "df = df.round(4)\n",
    "df"
   ]
  }
 ],
 "metadata": {
  "interpreter": {
   "hash": "916dbcbb3f70747c44a77c7bcd40155683ae19c65e1c03b4aa3499c5328201f1"
  },
  "kernelspec": {
   "display_name": "Python 3.8.10 64-bit",
   "name": "python3"
  },
  "language_info": {
   "codemirror_mode": {
    "name": "ipython",
    "version": 3
   },
   "file_extension": ".py",
   "mimetype": "text/x-python",
   "name": "python",
   "nbconvert_exporter": "python",
   "pygments_lexer": "ipython3",
   "version": "3.8.10"
  },
  "orig_nbformat": 4
 },
 "nbformat": 4,
 "nbformat_minor": 2
}
